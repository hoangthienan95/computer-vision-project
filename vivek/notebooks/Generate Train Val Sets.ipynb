{
 "cells": [
  {
   "cell_type": "code",
   "execution_count": 1,
   "metadata": {},
   "outputs": [],
   "source": [
    "import os\n",
    "import shutil\n",
    "import random\n",
    "import pandas as pd\n",
    "import numpy as np"
   ]
  },
  {
   "cell_type": "code",
   "execution_count": 12,
   "metadata": {},
   "outputs": [],
   "source": [
    "DATASET_DIR    = '../../data/FashionDataSet/'\n",
    "TRAIN_DIR   = os.path.join(DATASET_DIR, 'train')\n",
    "TRAIN_INFO_FILE = os.path.join(DATASET_DIR, 'train.csv' )"
   ]
  },
  {
   "cell_type": "code",
   "execution_count": 8,
   "metadata": {},
   "outputs": [],
   "source": [
    "df_fashion = pd.read_csv(TRAIN_INFO_FILE)"
   ]
  },
  {
   "cell_type": "code",
   "execution_count": 13,
   "metadata": {},
   "outputs": [
    {
     "name": "stdout",
     "output_type": "stream",
     "text": [
      "Total 45625\n",
      "Train 36596\n",
      "Validation 9029\n"
     ]
    }
   ],
   "source": [
    "uTotal = df_fashion.ImageId.unique()\n",
    "msk = np.random.rand(len(uTotal)) < 0.8\n",
    "\n",
    "train = uTotal[msk]\n",
    "test = uTotal[~msk]\n",
    "\n",
    "print(\"Total\", len(uTotal))\n",
    "print(\"Train\",len(train))\n",
    "print(\"Validation\",len(test))"
   ]
  },
  {
   "cell_type": "code",
   "execution_count": 14,
   "metadata": {},
   "outputs": [],
   "source": [
    "SPLIT_TRAIN_DIR = os.path.join(DATASET_DIR,\"split_train\")\n",
    "if not os.path.isdir(SPLIT_TRAIN_DIR):\n",
    "    os.makedirs(SPLIT_TRAIN_DIR)\n",
    "\n",
    "#  Move train set\n",
    "for image_id in train:\n",
    "    old_path = os.path.join(\"../train/\",\"{}\").format(image_id)\n",
    "    new_path = os.path.join(SPLIT_TRAIN_DIR,\"{}\").format(image_id)\n",
    "    if not os.path.exists(new_path):\n",
    "        os.symlink(old_path, new_path)"
   ]
  },
  {
   "cell_type": "code",
   "execution_count": 15,
   "metadata": {},
   "outputs": [],
   "source": [
    "SPLIT_VAL_DIR = os.path.join(DATASET_DIR,\"split_val\")\n",
    "if not os.path.isdir(SPLIT_VAL_DIR):\n",
    "    os.makedirs(SPLIT_VAL_DIR)\n",
    "    \n",
    "# Move val set\n",
    "for image_id in test:\n",
    "    old_path = os.path.join(\"../train/\",\"{}\").format(image_id)\n",
    "    new_path = os.path.join(SPLIT_VAL_DIR,\"{}\").format(image_id)\n",
    "    if not os.path.exists(new_path):\n",
    "        os.symlink(old_path, new_path)\n",
    "    #if os.path.exists(old_path):\n",
    "        #os.rename(old_path, new_path)\n"
   ]
  },
  {
   "cell_type": "code",
   "execution_count": 16,
   "metadata": {},
   "outputs": [
    {
     "name": "stdout",
     "output_type": "stream",
     "text": [
      "45625\n",
      "36596\n",
      "9029\n"
     ]
    }
   ],
   "source": [
    "# Count files\n",
    "path, dirs, files = next(os.walk(TRAIN_DIR))\n",
    "file_count = len(files)\n",
    "print(file_count)\n",
    "\n",
    "path, dirs, files = next(os.walk(SPLIT_TRAIN_DIR))\n",
    "file_count = len(files)\n",
    "print(file_count)\n",
    "\n",
    "\n",
    "path, dirs, files = next(os.walk(SPLIT_VAL_DIR))\n",
    "file_count = len(files)\n",
    "print(file_count)\n"
   ]
  },
  {
   "cell_type": "code",
   "execution_count": 17,
   "metadata": {},
   "outputs": [],
   "source": [
    "#  Save new csv files\n",
    "df_train = df_fashion[df_fashion.ImageId.isin(train)]\n",
    "df_test = df_fashion[df_fashion.ImageId.isin(test)]\n",
    "\n",
    "df_train.to_csv(os.path.join(SPLIT_TRAIN_DIR,\"info.csv\"), index=False)\n",
    "df_test.to_csv(os.path.join(SPLIT_VAL_DIR,\"info.csv\"), index=False)"
   ]
  },
  {
   "cell_type": "code",
   "execution_count": 18,
   "metadata": {},
   "outputs": [
    {
     "name": "stdout",
     "output_type": "stream",
     "text": [
      "train_segs (267842, 5)\n",
      "train_images 36596\n",
      "val_segs (65573, 5)\n",
      "val_images 9029\n"
     ]
    }
   ],
   "source": [
    "# Verify new vsc files\n",
    "train_segs = pd.read_csv(os.path.join(SPLIT_TRAIN_DIR,\"info.csv\"))\n",
    "val_segs = pd.read_csv(os.path.join(SPLIT_VAL_DIR,\"info.csv\"))\n",
    "\n",
    "\n",
    "print(\"train_segs\", train_segs.shape)\n",
    "print(\"train_images\", len(train_segs.ImageId.unique()))\n",
    "print(\"val_segs\", val_segs.shape)\n",
    "print(\"val_images\", len(val_segs.ImageId.unique()))"
   ]
  },
  {
   "cell_type": "code",
   "execution_count": 18,
   "metadata": {},
   "outputs": [
    {
     "data": {
      "text/html": [
       "<div>\n",
       "<style>\n",
       "    .dataframe thead tr:only-child th {\n",
       "        text-align: right;\n",
       "    }\n",
       "\n",
       "    .dataframe thead th {\n",
       "        text-align: left;\n",
       "    }\n",
       "\n",
       "    .dataframe tbody tr th {\n",
       "        vertical-align: top;\n",
       "    }\n",
       "</style>\n",
       "<table border=\"1\" class=\"dataframe\">\n",
       "  <thead>\n",
       "    <tr style=\"text-align: right;\">\n",
       "      <th></th>\n",
       "      <th>ImageId</th>\n",
       "      <th>EncodedPixels</th>\n",
       "      <th>Height</th>\n",
       "      <th>Width</th>\n",
       "      <th>ClassId</th>\n",
       "    </tr>\n",
       "  </thead>\n",
       "  <tbody>\n",
       "    <tr>\n",
       "      <th>0</th>\n",
       "      <td>00000663ed1ff0c4e0132b9b9ac53f6e.jpg</td>\n",
       "      <td>6068157 7 6073371 20 6078584 34 6083797 48 608...</td>\n",
       "      <td>5214</td>\n",
       "      <td>3676</td>\n",
       "      <td>6</td>\n",
       "    </tr>\n",
       "    <tr>\n",
       "      <th>1</th>\n",
       "      <td>00000663ed1ff0c4e0132b9b9ac53f6e.jpg</td>\n",
       "      <td>6323163 11 6328356 32 6333549 53 6338742 75 63...</td>\n",
       "      <td>5214</td>\n",
       "      <td>3676</td>\n",
       "      <td>0</td>\n",
       "    </tr>\n",
       "    <tr>\n",
       "      <th>2</th>\n",
       "      <td>00000663ed1ff0c4e0132b9b9ac53f6e.jpg</td>\n",
       "      <td>8521389 10 8526585 30 8531789 42 8537002 46 85...</td>\n",
       "      <td>5214</td>\n",
       "      <td>3676</td>\n",
       "      <td>28</td>\n",
       "    </tr>\n",
       "    <tr>\n",
       "      <th>3</th>\n",
       "      <td>00000663ed1ff0c4e0132b9b9ac53f6e.jpg</td>\n",
       "      <td>10837337 5 10842542 14 10847746 24 10852951 33...</td>\n",
       "      <td>5214</td>\n",
       "      <td>3676</td>\n",
       "      <td>32</td>\n",
       "    </tr>\n",
       "    <tr>\n",
       "      <th>4</th>\n",
       "      <td>00000663ed1ff0c4e0132b9b9ac53f6e.jpg</td>\n",
       "      <td>11464158 10 11469372 30 11474586 43 11479800 4...</td>\n",
       "      <td>5214</td>\n",
       "      <td>3676</td>\n",
       "      <td>32</td>\n",
       "    </tr>\n",
       "  </tbody>\n",
       "</table>\n",
       "</div>"
      ],
      "text/plain": [
       "                                ImageId  \\\n",
       "0  00000663ed1ff0c4e0132b9b9ac53f6e.jpg   \n",
       "1  00000663ed1ff0c4e0132b9b9ac53f6e.jpg   \n",
       "2  00000663ed1ff0c4e0132b9b9ac53f6e.jpg   \n",
       "3  00000663ed1ff0c4e0132b9b9ac53f6e.jpg   \n",
       "4  00000663ed1ff0c4e0132b9b9ac53f6e.jpg   \n",
       "\n",
       "                                       EncodedPixels  Height  Width ClassId  \n",
       "0  6068157 7 6073371 20 6078584 34 6083797 48 608...    5214   3676       6  \n",
       "1  6323163 11 6328356 32 6333549 53 6338742 75 63...    5214   3676       0  \n",
       "2  8521389 10 8526585 30 8531789 42 8537002 46 85...    5214   3676      28  \n",
       "3  10837337 5 10842542 14 10847746 24 10852951 33...    5214   3676      32  \n",
       "4  11464158 10 11469372 30 11474586 43 11479800 4...    5214   3676      32  "
      ]
     },
     "execution_count": 18,
     "metadata": {},
     "output_type": "execute_result"
    }
   ],
   "source": [
    "train_segs.head()"
   ]
  },
  {
   "cell_type": "code",
   "execution_count": null,
   "metadata": {},
   "outputs": [],
   "source": []
  },
  {
   "cell_type": "code",
   "execution_count": null,
   "metadata": {
    "collapsed": true
   },
   "outputs": [],
   "source": []
  }
 ],
 "metadata": {
  "kernelspec": {
   "display_name": "Python 3",
   "language": "python",
   "name": "python3"
  },
  "language_info": {
   "codemirror_mode": {
    "name": "ipython",
    "version": 3
   },
   "file_extension": ".py",
   "mimetype": "text/x-python",
   "name": "python",
   "nbconvert_exporter": "python",
   "pygments_lexer": "ipython3",
   "version": "3.6.5"
  }
 },
 "nbformat": 4,
 "nbformat_minor": 2
}
