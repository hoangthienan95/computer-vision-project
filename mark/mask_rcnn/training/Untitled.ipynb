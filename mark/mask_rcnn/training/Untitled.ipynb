{
 "cells": [
  {
   "cell_type": "markdown",
   "metadata": {},
   "source": [
    "# UNET - Train on Fashion Dataset\n",
    "\n",
    "\n",
    "This notebook shows how to train UNET on the Fashion dataset. \n",
    "\n",
    "The code of the *Fashion* dataset is included below. A maskrcnn.utils.DataSet object is customized for the Fashion dataset.  This object is used to train the model."
   ]
  },
  {
   "cell_type": "markdown",
   "metadata": {},
   "source": [
    "## Set Backend For GPU Support\n",
    "This can be commented out if an Nvidia GPU is being used"
   ]
  },
  {
   "cell_type": "code",
   "execution_count": null,
   "metadata": {},
   "outputs": [],
   "source": [
    "import os\n",
    "# fix libiomp5.dylib error for mac\n",
    "os.environ['KMP_DUPLICATE_LIB_OK'] = 'True'\n",
    "\n",
    "# OPTIONAL SETTING\n",
    "# Here we override the keras backend env variable to use plaidml\n",
    "# plaidml can make use of AMD GPUs \n",
    "# This assignment needs to be added before loading keras libraries\n",
    "\n",
    "os.environ[\"KERAS_BACKEND\"] = \"plaidml.keras.backend\"\n",
    "\n",
    "# to install plaidML, activate appropriate environment and then:\n",
    "#   pip install -U plaidml-keras\n",
    "#   plaidml-setup\n",
    "\n",
    "import matplotlib.pyplot as plt\n",
    "import numpy as np\n",
    "import keras\n",
    "keras.__version__"
   ]
  },
  {
   "cell_type": "markdown",
   "metadata": {},
   "source": [
    "### Load Modules"
   ]
  },
  {
   "cell_type": "code",
   "execution_count": null,
   "metadata": {},
   "outputs": [],
   "source": [
    "import warnings\n",
    "warnings.filterwarnings('ignore')\n",
    "\n",
    "import os\n",
    "import sys\n",
    "import random\n",
    "import math\n",
    "import re\n",
    "import time\n",
    "import numpy as np\n",
    "import cv2\n",
    "import matplotlib\n",
    "import matplotlib.pyplot as plt\n",
    "import matplotlib.patches as patches\n",
    "import matplotlib.lines as lines\n",
    "from matplotlib.patches import Polygon\n",
    "\n",
    "\n",
    "# Root directory of the project\n",
    "ROOT_DIR = os.path.abspath(\"../../\")\n",
    "\n",
    "# Import Mask RCNN\n",
    "sys.path.append(ROOT_DIR)  # To find local version of the library\n",
    "from mrcnn.config import Config\n",
    "from mrcnn import utils\n",
    "import mrcnn.model as modellib\n",
    "from mrcnn import visualize\n",
    "from mrcnn.model import log\n",
    "\n",
    "from mrcnn.visualize import display_images\n",
    "\n",
    "%matplotlib inline "
   ]
  },
  {
   "cell_type": "code",
   "execution_count": null,
   "metadata": {},
   "outputs": [],
   "source": [
    "# !pip install ipywidgets \n",
    "# !jupyter nbextension enable --py widgetsnbextension\n",
    "# !jupyter labextension install @jupyter-widgets/jupyterlab-manager\n",
    "\n",
    "# %%capture\n",
    "from tqdm import tqdm_notebook as tqdm\n",
    "import json\n",
    "import pandas as pd\n",
    "import skimage\n",
    "import random\n",
    "# from sklearn.utils import resample\n",
    "from sklearn.model_selection import train_test_split\n",
    "\n",
    "from pycocotools.coco import maskUtils"
   ]
  },
  {
   "cell_type": "markdown",
   "metadata": {},
   "source": [
    "### Setup local variables"
   ]
  },
  {
   "cell_type": "code",
   "execution_count": null,
   "metadata": {},
   "outputs": [],
   "source": [
    "data_dir    = '../../data/FashionDataSet/'\n",
    "train_dir   = os.path.join(data_dir, 'train')\n",
    "images_file = os.path.join(data_dir, 'train.csv' )\n",
    "cat_file    = os.path.join(data_dir, 'label_descriptions.json' )"
   ]
  },
  {
   "cell_type": "code",
   "execution_count": null,
   "metadata": {},
   "outputs": [],
   "source": [
    "# Directory to save logs and trained model\n",
    "MODEL_DIR = os.path.join(data_dir, \"logs\")\n",
    "\n",
    "# Local path to trained weights file\n",
    "COCO_MODEL_PATH = os.path.join(data_dir, \"mask_rcnn_coco.h5\")\n",
    "# Download COCO trained weights from Releases if needed\n",
    "if not os.path.exists(COCO_MODEL_PATH):\n",
    "    utils.download_trained_weights(COCO_MODEL_PATH)"
   ]
  },
  {
   "cell_type": "markdown",
   "metadata": {},
   "source": [
    "### Defin UNET model Structure"
   ]
  },
  {
   "cell_type": "code",
   "execution_count": 1,
   "metadata": {},
   "outputs": [],
   "source": [
    "# U-Net architecture\n",
    "def UNet(input_img):\n",
    "\n",
    "    # Contracting Path\n",
    "    enc1 = Conv2D(64, (3,3), activation='relu', padding='same')(input_img)\n",
    "    enc1 = Conv2D(64, (3,3), activation='relu', padding='same')(enc1)\n",
    "    \n",
    "    enc2 = MaxPooling2D(pool_size=(2,2))(enc1)\n",
    "    enc2 = Conv2D(128, (3,3), activation='relu', padding='same')(enc2)\n",
    "    enc2 = Conv2D(128, (3,3), activation='relu', padding='same')(enc2)\n",
    "    \n",
    "    enc3 = MaxPooling2D(pool_size=(2,2))(enc2)\n",
    "    enc3 = Conv2D(256, (3,3), activation='relu', padding='same')(enc3)\n",
    "    enc3 = Conv2D(256, (3,3), activation='relu', padding='same')(enc3)\n",
    "    \n",
    "    enc4 = MaxPooling2D(pool_size=(2,2))(enc3)\n",
    "    enc4 = Conv2D(512, (3,3), activation='relu', padding='same')(enc4)\n",
    "    enc4 = Conv2D(512, (3,3), activation='relu', padding='same')(enc4)\n",
    "    \n",
    "    encoder = MaxPooling2D(pool_size=(2,2))(enc4)\n",
    "    encoder = Conv2D(1024, (3,3), activation='relu', padding='same')(encoder)\n",
    "    encoder = Conv2D(1024, (3,3), activation='relu', padding='same')(encoder)\n",
    "    \n",
    "    # Expansive Path\n",
    "    dec4 = UpSampling2D((2,2))(encoder)\n",
    "    dec4 = concatenate([dec4,enc4])\n",
    "    dec4 = Conv2D(512, (3,3), activation='relu', padding='same')(dec4)\n",
    "    dec4 = Conv2D(512, (3,3), activation='relu', padding='same')(dec4)\n",
    "    \n",
    "    dec3 = UpSampling2D((2,2))(dec4)\n",
    "    dec3 = concatenate([dec3,enc3])\n",
    "    dec3 = Conv2D(256, (3,3), activation='relu', padding='same')(dec3)\n",
    "    dec3 = Conv2D(256, (3,3), activation='relu', padding='same')(dec3)\n",
    "    \n",
    "    dec2 = UpSampling2D((2,2))(dec3)\n",
    "    dec2 = concatenate([dec2,enc2])\n",
    "    dec2 = Conv2D(128, (3,3), activation='relu', padding='same')(dec2)\n",
    "    dec2 = Conv2D(128, (3,3), activation='relu', padding='same')(dec2)\n",
    "    \n",
    "    dec1 = UpSampling2D((2,2))(dec2)\n",
    "    dec1 = concatenate([dec1,enc1])\n",
    "    dec1 = Conv2D(64, (3,3), activation='relu', padding='same')(dec1)\n",
    "    \n",
    "    # c_exp = final feature maps from expansive path\n",
    "    c_exp = Conv2D(64, (3,3), activation='relu', padding='same')(dec1)\n",
    "    \n",
    "    # output layer must change\n",
    "    outputs = Conv2D(n_classes, (1, 1), activation='softmax')(c_exp)\n",
    "    print(\"outputs shape: \", outputs.shape)\n",
    "    \n",
    "    model = Model(inputs=[input_img], outputs=[outputs])\n",
    "    return model"
   ]
  },
  {
   "cell_type": "code",
   "execution_count": null,
   "metadata": {},
   "outputs": [],
   "source": []
  }
 ],
 "metadata": {
  "kernelspec": {
   "display_name": "Python 3",
   "language": "python",
   "name": "python3"
  },
  "language_info": {
   "codemirror_mode": {
    "name": "ipython",
    "version": 3
   },
   "file_extension": ".py",
   "mimetype": "text/x-python",
   "name": "python",
   "nbconvert_exporter": "python",
   "pygments_lexer": "ipython3",
   "version": "3.6.9"
  }
 },
 "nbformat": 4,
 "nbformat_minor": 2
}
