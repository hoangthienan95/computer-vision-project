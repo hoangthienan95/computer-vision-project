{
 "cells": [
  {
   "cell_type": "code",
   "execution_count": 15,
   "metadata": {},
   "outputs": [],
   "source": [
    "import pandas as pd\n",
    "import os\n",
    "import numpy as np"
   ]
  },
  {
   "cell_type": "code",
   "execution_count": 39,
   "metadata": {},
   "outputs": [],
   "source": [
    "data_dir    = '../../../data/FashionDataSet/'\n",
    "images_file = os.path.join(data_dir, 'train.csv' )"
   ]
  },
  {
   "cell_type": "code",
   "execution_count": 69,
   "metadata": {},
   "outputs": [],
   "source": [
    "df_images = pd.read_csv(images_file, nrows=100000)"
   ]
  },
  {
   "cell_type": "code",
   "execution_count": 70,
   "metadata": {},
   "outputs": [
    {
     "data": {
      "text/plain": [
       "100000"
      ]
     },
     "execution_count": 70,
     "metadata": {},
     "output_type": "execute_result"
    }
   ],
   "source": [
    "len(df_images)"
   ]
  },
  {
   "cell_type": "code",
   "execution_count": 28,
   "metadata": {},
   "outputs": [],
   "source": [
    "df_images_unique = df_images.drop_duplicates('ImageId')"
   ]
  },
  {
   "cell_type": "code",
   "execution_count": 65,
   "metadata": {},
   "outputs": [
    {
     "data": {
      "text/plain": [
       "1355"
      ]
     },
     "execution_count": 65,
     "metadata": {},
     "output_type": "execute_result"
    }
   ],
   "source": [
    "len(df_images_unique)"
   ]
  },
  {
   "cell_type": "code",
   "execution_count": 60,
   "metadata": {},
   "outputs": [],
   "source": [
    "df_sub = df_images[df_images.ImageId=='059425c0a3d91f60cc10881809311513.jpg']"
   ]
  },
  {
   "cell_type": "code",
   "execution_count": 61,
   "metadata": {},
   "outputs": [
    {
     "data": {
      "text/html": [
       "<div>\n",
       "<style scoped>\n",
       "    .dataframe tbody tr th:only-of-type {\n",
       "        vertical-align: middle;\n",
       "    }\n",
       "\n",
       "    .dataframe tbody tr th {\n",
       "        vertical-align: top;\n",
       "    }\n",
       "\n",
       "    .dataframe thead th {\n",
       "        text-align: right;\n",
       "    }\n",
       "</style>\n",
       "<table border=\"1\" class=\"dataframe\">\n",
       "  <thead>\n",
       "    <tr style=\"text-align: right;\">\n",
       "      <th></th>\n",
       "      <th>ImageId</th>\n",
       "      <th>EncodedPixels</th>\n",
       "      <th>Height</th>\n",
       "      <th>Width</th>\n",
       "      <th>ClassId</th>\n",
       "    </tr>\n",
       "  </thead>\n",
       "  <tbody>\n",
       "    <tr>\n",
       "      <th>7438</th>\n",
       "      <td>059425c0a3d91f60cc10881809311513.jpg</td>\n",
       "      <td>145913 3 146932 8 147802 5 147951 13 148819 16...</td>\n",
       "      <td>1024</td>\n",
       "      <td>680</td>\n",
       "      <td>9_3_20_41_61_91</td>\n",
       "    </tr>\n",
       "    <tr>\n",
       "      <th>7439</th>\n",
       "      <td>059425c0a3d91f60cc10881809311513.jpg</td>\n",
       "      <td>145913 3 146932 8 147802 5 147951 13 148819 16...</td>\n",
       "      <td>1024</td>\n",
       "      <td>680</td>\n",
       "      <td>31</td>\n",
       "    </tr>\n",
       "    <tr>\n",
       "      <th>7440</th>\n",
       "      <td>059425c0a3d91f60cc10881809311513.jpg</td>\n",
       "      <td>380116 11 380243 24 381144 28 381241 73 382171...</td>\n",
       "      <td>1024</td>\n",
       "      <td>680</td>\n",
       "      <td>31</td>\n",
       "    </tr>\n",
       "    <tr>\n",
       "      <th>7441</th>\n",
       "      <td>059425c0a3d91f60cc10881809311513.jpg</td>\n",
       "      <td>224455 3 225473 9 226492 14 226533 3 227510 20...</td>\n",
       "      <td>1024</td>\n",
       "      <td>680</td>\n",
       "      <td>29</td>\n",
       "    </tr>\n",
       "    <tr>\n",
       "      <th>7442</th>\n",
       "      <td>059425c0a3d91f60cc10881809311513.jpg</td>\n",
       "      <td>305416 1 306440 3 307464 5 308488 7 309512 9 3...</td>\n",
       "      <td>1024</td>\n",
       "      <td>680</td>\n",
       "      <td>1_61</td>\n",
       "    </tr>\n",
       "    <tr>\n",
       "      <th>7443</th>\n",
       "      <td>059425c0a3d91f60cc10881809311513.jpg</td>\n",
       "      <td>305416 1 306440 3 307464 5 308488 7 309512 9 3...</td>\n",
       "      <td>1024</td>\n",
       "      <td>680</td>\n",
       "      <td>33</td>\n",
       "    </tr>\n",
       "    <tr>\n",
       "      <th>7444</th>\n",
       "      <td>059425c0a3d91f60cc10881809311513.jpg</td>\n",
       "      <td>272261 3 273285 8 274308 12 275321 3 275332 12...</td>\n",
       "      <td>1024</td>\n",
       "      <td>680</td>\n",
       "      <td>23</td>\n",
       "    </tr>\n",
       "    <tr>\n",
       "      <th>7445</th>\n",
       "      <td>059425c0a3d91f60cc10881809311513.jpg</td>\n",
       "      <td>175991 11 177011 16 178031 21 179052 25 180072...</td>\n",
       "      <td>1024</td>\n",
       "      <td>680</td>\n",
       "      <td>23</td>\n",
       "    </tr>\n",
       "  </tbody>\n",
       "</table>\n",
       "</div>"
      ],
      "text/plain": [
       "                                   ImageId  \\\n",
       "7438  059425c0a3d91f60cc10881809311513.jpg   \n",
       "7439  059425c0a3d91f60cc10881809311513.jpg   \n",
       "7440  059425c0a3d91f60cc10881809311513.jpg   \n",
       "7441  059425c0a3d91f60cc10881809311513.jpg   \n",
       "7442  059425c0a3d91f60cc10881809311513.jpg   \n",
       "7443  059425c0a3d91f60cc10881809311513.jpg   \n",
       "7444  059425c0a3d91f60cc10881809311513.jpg   \n",
       "7445  059425c0a3d91f60cc10881809311513.jpg   \n",
       "\n",
       "                                          EncodedPixels  Height  Width  \\\n",
       "7438  145913 3 146932 8 147802 5 147951 13 148819 16...    1024    680   \n",
       "7439  145913 3 146932 8 147802 5 147951 13 148819 16...    1024    680   \n",
       "7440  380116 11 380243 24 381144 28 381241 73 382171...    1024    680   \n",
       "7441  224455 3 225473 9 226492 14 226533 3 227510 20...    1024    680   \n",
       "7442  305416 1 306440 3 307464 5 308488 7 309512 9 3...    1024    680   \n",
       "7443  305416 1 306440 3 307464 5 308488 7 309512 9 3...    1024    680   \n",
       "7444  272261 3 273285 8 274308 12 275321 3 275332 12...    1024    680   \n",
       "7445  175991 11 177011 16 178031 21 179052 25 180072...    1024    680   \n",
       "\n",
       "              ClassId  \n",
       "7438  9_3_20_41_61_91  \n",
       "7439               31  \n",
       "7440               31  \n",
       "7441               29  \n",
       "7442             1_61  \n",
       "7443               33  \n",
       "7444               23  \n",
       "7445               23  "
      ]
     },
     "execution_count": 61,
     "metadata": {},
     "output_type": "execute_result"
    }
   ],
   "source": [
    "df_sub"
   ]
  },
  {
   "cell_type": "code",
   "execution_count": 62,
   "metadata": {},
   "outputs": [],
   "source": [
    "for mask in df_sub.iterrows():\n",
    "    break"
   ]
  },
  {
   "cell_type": "code",
   "execution_count": 63,
   "metadata": {},
   "outputs": [
    {
     "data": {
      "text/plain": [
       "(7438, ImageId                       059425c0a3d91f60cc10881809311513.jpg\n",
       " EncodedPixels    145913 3 146932 8 147802 5 147951 13 148819 16...\n",
       " Height                                                        1024\n",
       " Width                                                          680\n",
       " ClassId                                            9_3_20_41_61_91\n",
       " Name: 7438, dtype: object)"
      ]
     },
     "execution_count": 63,
     "metadata": {},
     "output_type": "execute_result"
    }
   ],
   "source": [
    "mask"
   ]
  },
  {
   "cell_type": "code",
   "execution_count": 64,
   "metadata": {},
   "outputs": [
    {
     "data": {
      "text/plain": [
       "10"
      ]
     },
     "execution_count": 64,
     "metadata": {},
     "output_type": "execute_result"
    }
   ],
   "source": [
    "int(mask[1].ClassId.split('_')[0])+1"
   ]
  },
  {
   "cell_type": "code",
   "execution_count": null,
   "metadata": {},
   "outputs": [],
   "source": []
  }
 ],
 "metadata": {
  "kernelspec": {
   "display_name": "Python 3",
   "language": "python",
   "name": "python3"
  },
  "language_info": {
   "codemirror_mode": {
    "name": "ipython",
    "version": 3
   },
   "file_extension": ".py",
   "mimetype": "text/x-python",
   "name": "python",
   "nbconvert_exporter": "python",
   "pygments_lexer": "ipython3",
   "version": "3.6.9"
  }
 },
 "nbformat": 4,
 "nbformat_minor": 2
}
