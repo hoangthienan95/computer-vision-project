{
 "cells": [
  {
   "cell_type": "markdown",
   "metadata": {},
   "source": [
    "# UNET - Train on Fashion Dataset\n",
    "\n",
    "\n",
    "This notebook shows how to train UNET on the Fashion dataset.\n",
    "\n",
    "### The Dataset Object\n",
    "This notebook will implement a Dataset object from the mcrnn implementation.  The dataset object holds a listing of all relevant data needed for training images and respective masks.  The object holds file references to the images and encoded masks for semantic segmentation.\n",
    "\n",
    "The same dataset object used for training the MRCNN implementation is used in this workbook.  This helps to compare numerous implementation results by ensureing the same training data is used.\n",
    "\n",
    "### UNET\n",
    "UNET is a model that will produce a semantic segmentation based on an input image.  UNET acts as an encoder by using CNN's and Max Pooling to create an encoder and uses Upscaling and CNN's to decode.  UNET will output a sementaic segmentation of the same dimension as the input.  Each channel of the output is a binary mask for a segmentation class.  UNET's key feature is that the final output from each layer is concatenated with the corresponding layer on the decoding side.  The key feature allows the decoder to better represent more complex shape in the segmentation.  \n",
    "\n",
    "### Limitations\n",
    "#### Semantic Segmentation Only\n",
    "UNET in its basic form will only output a semantic segmenation.  No boxing or instance identification is included.  This will increase the speed of training, but limits it use.\n",
    "\n",
    "#### Fixed Dimensions\n",
    "A UNET model is compiled with a fixed input dimension which drives a fixed output dimension.  Any training images or inferrence images will need to have the specificed input dimension.  MRCNN is more flexible and allows an input image of any size.\n"
   ]
  },
  {
   "cell_type": "markdown",
   "metadata": {},
   "source": [
    "## Unet Architecture\n",
    "![title](Unet_architecture.png)"
   ]
  },
  {
   "cell_type": "markdown",
   "metadata": {},
   "source": [
    "### Setup local variables"
   ]
  },
  {
   "cell_type": "code",
   "execution_count": 6,
   "metadata": {},
   "outputs": [
    {
     "data": {
      "text/plain": [
       "(True, True, True, True)"
      ]
     },
     "execution_count": 6,
     "metadata": {},
     "output_type": "execute_result"
    }
   ],
   "source": [
    "import os, sys\n",
    "\n",
    "project_root = \"/Users/markmcdonald/Library/Mobile Documents/com~apple~CloudDocs/Harvard/CSCI_E25/Project/computer-vision-project\"\n",
    "data_dir     = '../../data/FashionDataSet/'\n",
    "train_dir    = os.path.join(data_dir, 'train')\n",
    "images_file  = os.path.join(data_dir, 'train.csv' )\n",
    "cat_file     = os.path.join(data_dir, 'label_descriptions.json' )\n",
    "sys.path.append(project_root)\n",
    "os.path.isdir(data_dir), os.path.isdir(train_dir), os.path.isfile(images_file), os.path.isfile(images_file)"
   ]
  },
  {
   "cell_type": "markdown",
   "metadata": {},
   "source": [
    "## Set Backend For GPU Support\n",
    "This can be commented out if an Nvidia GPU is being used or if processing is to be done using local CPUs"
   ]
  },
  {
   "cell_type": "code",
   "execution_count": 7,
   "metadata": {},
   "outputs": [],
   "source": [
    "import os\n",
    "# fix libiomp5.dylib error for mac\n",
    "os.environ['KMP_DUPLICATE_LIB_OK'] = 'True'\n",
    "\n",
    "# OPTIONAL SETTING\n",
    "# Here we override the keras backend env variable to use plaidml\n",
    "# plaidml can make use of AMD GPUs \n",
    "# This assignment needs to be added before loading keras libraries\n",
    "\n",
    "# os.environ[\"KERAS_BACKEND\"] = \"plaidml.keras.backend\"\n",
    "\n",
    "# to install plaidML, activate appropriate environment and then:\n",
    "#   pip install -U plaidml-keras\n",
    "#   plaidml-setup\n"
   ]
  },
  {
   "cell_type": "markdown",
   "metadata": {},
   "source": [
    "### Load Modules"
   ]
  },
  {
   "cell_type": "code",
   "execution_count": 8,
   "metadata": {},
   "outputs": [
    {
     "name": "stderr",
     "output_type": "stream",
     "text": [
      "Using TensorFlow backend.\n"
     ]
    }
   ],
   "source": [
    "import warnings\n",
    "warnings.filterwarnings('ignore')\n",
    "\n",
    "import datetime, os\n",
    "import sys\n",
    "import random\n",
    "import math\n",
    "import re\n",
    "import time\n",
    "import numpy as np\n",
    "import cv2\n",
    "import matplotlib\n",
    "import matplotlib.pyplot as plt\n",
    "import matplotlib.patches as patches\n",
    "import matplotlib.lines as lines\n",
    "from matplotlib.patches import Polygon\n",
    "import seaborn as sns\n",
    "import tensorflow as tf\n",
    "from tqdm import tqdm_notebook as tqdm\n",
    "import json\n",
    "import pandas as pd\n",
    "import skimage\n",
    "import random\n",
    "from sklearn.model_selection import train_test_split\n",
    "import pickle\n",
    "\n",
    "\n",
    "from FashionUtils import FashionDataset\n",
    "# from FashionDataset import load\n",
    "\n",
    "# Root directory of the project\n",
    "ROOT_DIR = os.path.abspath(\"../../\")\n",
    "\n",
    "\n",
    "\n",
    "# Import Mask RCNN\n",
    "sys.path.append(ROOT_DIR)  # To find local version of the library\n",
    "\n",
    "from mrcnn.config import Config\n",
    "from mrcnn import utils\n",
    "import mrcnn.model as modellib\n",
    "from mrcnn import visualize\n",
    "from mrcnn.model import log\n",
    "\n",
    "\n",
    "from mrcnn.visualize import display_images\n",
    "\n",
    "%matplotlib inline "
   ]
  },
  {
   "cell_type": "code",
   "execution_count": 9,
   "metadata": {},
   "outputs": [
    {
     "name": "stdout",
     "output_type": "stream",
     "text": [
      "Loading Tensorflow libraries for Keras.\n"
     ]
    }
   ],
   "source": [
    "# Keras imports\n",
    "if os.environ.get(\"KERAS_BACKEND\") == \"plaidml.keras.backend\":\n",
    "    print(\"Loading Plaid libraries for Keras.\")\n",
    "    import keras\n",
    "    \n",
    "    from keras.models import Model, load_model, model_from_json\n",
    "    from keras.layers import Input, BatchNormalization, Activation, Dense, Dropout\n",
    "    from keras.layers.core import Lambda, RepeatVector, Reshape\n",
    "    from keras.layers.convolutional import Conv2D, Conv2DTranspose\n",
    "    from keras.layers.pooling import MaxPooling2D, GlobalMaxPool2D\n",
    "    from keras.layers.merge import concatenate, add\n",
    "    from keras.callbacks import EarlyStopping, ModelCheckpoint, ReduceLROnPlateau, TensorBoard\n",
    "    from keras.optimizers import Adam, SGD\n",
    "    from keras.preprocessing.image import ImageDataGenerator, array_to_img, img_to_array, load_img\n",
    "    from keras.utils import to_categorical\n",
    "    from keras.layers import UpSampling2D\n",
    "    from keras.preprocessing import image\n",
    "    from keras.applications.resnet_v2 import ResNet152V2\n",
    "\n",
    "else:\n",
    "    print(\"Loading Tensorflow libraries for Keras.\")\n",
    "    import tensorflow as tf\n",
    "\n",
    "    from tensorflow.python.keras.models import Model, load_model, model_from_json\n",
    "    from tensorflow.python.keras.layers import Input, BatchNormalization, Activation, Dense, Dropout\n",
    "    from tensorflow.python.keras.layers.core import Lambda, RepeatVector, Reshape\n",
    "    from tensorflow.python.keras.layers.convolutional import Conv2D, Conv2DTranspose\n",
    "    from tensorflow.python.keras.layers.pooling import MaxPooling2D, GlobalMaxPool2D\n",
    "    from tensorflow.python.keras.layers.merge import concatenate, add\n",
    "    from tensorflow.python.keras.callbacks import EarlyStopping, ModelCheckpoint, ReduceLROnPlateau\n",
    "    from tensorflow.python.keras.optimizers import Adam, SGD\n",
    "    from tensorflow.python.keras.preprocessing.image import ImageDataGenerator, array_to_img, img_to_array, load_img\n",
    "    from tensorflow.python.keras.utils import to_categorical\n",
    "    from tensorflow.python.keras.layers import UpSampling2D\n",
    "    from tensorflow.python.keras.preprocessing import image\n",
    "    from tensorflow.python.keras.applications.resnet_v2 import ResNet152V2\n",
    "    "
   ]
  },
  {
   "cell_type": "code",
   "execution_count": 10,
   "metadata": {},
   "outputs": [],
   "source": [
    "# !pip install ipywidgets \n",
    "# !jupyter nbextension enable --py widgetsnbextension\n",
    "# !jupyter labextension install @jupyter-widgets/jupyterlab-manager\n",
    "\n",
    "\n"
   ]
  },
  {
   "cell_type": "markdown",
   "metadata": {},
   "source": [
    "### Define Dataset Object\n",
    "from the mask rcnn implementation"
   ]
  },
  {
   "cell_type": "code",
   "execution_count": 11,
   "metadata": {},
   "outputs": [],
   "source": [
    "class FashionDataset(utils.Dataset):\n",
    "    \"\"\"\n",
    "    Implements mrcnn.utils.Dataset.\n",
    "    FashionDataset holds data relevant to the imaterialist challenge data.  \n",
    "    \"\"\"\n",
    "\n",
    "    def __init__(self):\n",
    "        super(FashionDataset, self).__init__()  \n",
    "        self.class_names= []\n",
    "\n",
    "    @staticmethod\n",
    "    def load(filepath:str):\n",
    "        with open(filepath, 'rb') as f:\n",
    "            data = pickle.load(f)\n",
    "            return data\n",
    "\n",
    "    def save(self, filepath:str):\n",
    "        with open(save_file, 'wb') as f:\n",
    "            pickle.dump(self, filepath)\n",
    "\n",
    "    def create_classes(self, cat_file:str) -> [dict]:\n",
    "        \"\"\"\n",
    "        Added to FashionDataset.\n",
    "        Initialize the classes.\n",
    "        param:cat_file - filepath to fashion dataset's label_descriptions.json file\n",
    "        \"\"\"\n",
    "        # read labels file\n",
    "        with open(cat_file, 'r') as data_file:\n",
    "            data=data_file.read()\n",
    "\n",
    "        # parse file\n",
    "        labels = json.loads(data)\n",
    "\n",
    "        categories = labels.get('categories')\n",
    "        df_categories = pd.DataFrame(categories)\n",
    "        df_categories['source'] = \"imaterialist\"\n",
    "\n",
    "        dict_categories = [dict(x[1]) for x in df_categories.iterrows()]\n",
    "\n",
    "        for c in dict_categories:\n",
    "            self.add_class(c['source'], c['id']+1, c['name']) # add 1 to make room for background\n",
    "\n",
    "        print (\"{} classes added.\".format(len(dict_categories)))\n",
    "\n",
    "        return dict_categories\n",
    "\n",
    "\n",
    "    def create_anns(self, sub_df_images:pd.DataFrame) -> dict:\n",
    "        \"\"\"\n",
    "        Creates an 'annotations' entry in an image's image_info entry.\n",
    "        dict_keys(['id', 'image_id', 'segmentation', 'category_id', 'area', 'iscrowd', 'bbox']\n",
    "        \"\"\"\n",
    "        annotations = []\n",
    "\n",
    "        for mask in sub_df_images.iterrows():\n",
    "            h      = int(mask[1].get('height'))\n",
    "            w      = int(mask[1].get('width'))\n",
    "            counts = np.fromstring(mask[1]['EncodedPixels'], dtype=int, sep=\" \")\n",
    "            ann_dict = {'id'            : mask[1]['id'] , \n",
    "                        'image_id'      : mask[1]['file_name'] , \n",
    "                        'segmentation'  : {'counts' : counts, 'size': [h, w] }, \n",
    "                        'category_id'   : int(mask[1]['ClassId'].split('_')[0])+1, # add 1 to make room for background\n",
    "                        'iscrowd'       : True, # True indicates the use of uncompressed RLE\n",
    "                        'bbox'          : [] }\n",
    "\n",
    "            annotations.append(ann_dict)\n",
    "\n",
    "        return annotations\n",
    "\n",
    "\n",
    "    def create_images(self, images_file:str, train_dir:str, imgids:list=None, limit:int=None) -> (dict, pd.DataFrame):\n",
    "        \"\"\"\n",
    "        Build the image_info['images'] dictionary element with all images.\n",
    "        If imgids list is None, all images in the images_file will be included, otherwise,\n",
    "        only the imgids in the list will be included.\n",
    "        \"\"\"\n",
    "\n",
    "        df_images = pd.read_csv(images_file, nrows=limit)\n",
    "\n",
    "        # restrict the dataframe to items in imgids list, if list is provided\n",
    "        if imgids is not None:\n",
    "            df_images = df_images[df_images.ImageId.isin(imgids)]\n",
    "\n",
    "        df_images.rename(columns={\"ImageId\":'file_name', \"Height\":'height', \"Width\":'width'}, inplace=True)\n",
    "        df_images['id'] = [x for x in range(len(df_images))]\n",
    "        df_images['source'] = 'imaterialist'\n",
    "\n",
    "        dict_images = [dict(x[1]) for x in tqdm(df_images.iterrows(), desc=\"Create images dict\", total=len(df_images))]\n",
    "\n",
    "        for image in tqdm(dict_images, desc=\"Add images to object\"):\n",
    "            file_path = os.path.join(train_dir,image['file_name'])\n",
    "            self.add_image(source       = image['source'], \n",
    "                           image_id     = image['id'],\n",
    "                           path         = file_path, \n",
    "                           height       = image['height'],\n",
    "                           width        = image['width'],\n",
    "                           file_name    = image['file_name'],\n",
    "                           annotations  = self.create_anns(df_images[df_images.file_name==image['file_name']]))\n",
    "\n",
    "        print(\"Added {} images.\".format(len(df_images)))\n",
    "\n",
    "        return self.image_info\n",
    "\n",
    "\n",
    "    def load_image(self, image_id):\n",
    "        \"\"\"\n",
    "        Load the specified image and return a [H,W,3] Numpy array.\n",
    "        \"\"\"\n",
    "        # Load image\n",
    "        image = skimage.io.imread(self.image_info[image_id]['path'])\n",
    "        # If grayscale. Convert to RGB for consistency.\n",
    "        if image.ndim != 3:\n",
    "            image = skimage.color.gray2rgb(image)\n",
    "        # If has an alpha channel, remove it for consistency\n",
    "        if image.shape[-1] == 4:\n",
    "            image = image[..., :3]\n",
    "        return image\n",
    "\n",
    "\n",
    "    def load_mask(self, image_id):\n",
    "        \"\"\"Load instance masks for the given image.\n",
    "\n",
    "        Different datasets use different ways to store masks. This\n",
    "        function converts the different mask format to one format\n",
    "        in the form of a bitmap [height, width, instances].\n",
    "\n",
    "        Returns:\n",
    "        masks: A bool array of shape [height, width, instance count] with\n",
    "            one mask per instance.\n",
    "        class_ids: a 1D array of class IDs of the instance masks.\n",
    "        \"\"\"\n",
    "\n",
    "        image_info = self.image_info[image_id]\n",
    "\n",
    "        instance_masks = []\n",
    "        class_ids = []\n",
    "\n",
    "        # returns list of masks/annotations for the image\n",
    "        annotations = self.image_info[image_id][\"annotations\"] \n",
    "\n",
    "        # Build mask of shape [height, width, instance_count] and list\n",
    "        # of class IDs that correspond to each channel of the mask.\n",
    "        for annotation in annotations:\n",
    "            class_id = annotation['category_id'] # one of 46 categories\n",
    "\n",
    "            if class_id:\n",
    "                # updated to reflect problems with original maskutils implementtaion of decode\n",
    "                m = self.kaggle_rle_decode(annotation, image_info[\"height\"], image_info[\"width\"])\n",
    "\n",
    "                # Some objects are so small that they're less than 1 pixel area\n",
    "                # and end up rounded out. Skip those objects.\n",
    "                if m.max() < 1:\n",
    "                    continue\n",
    "                # Is it a crowd? If so, use a negative class ID.\n",
    "                if annotation['iscrowd']:\n",
    "                    # Use negative class ID for crowds\n",
    "                    # For crowd masks, annToMask() sometimes returns a mask\n",
    "                    # smaller than the given dimensions. If so, resize it.\n",
    "                    if m.shape[0] != image_info[\"height\"] or m.shape[1] != image_info[\"width\"]:\n",
    "                        m = np.ones([image_info[\"height\"], image_info[\"width\"]], dtype=bool)\n",
    "                instance_masks.append(m)\n",
    "                class_ids.append(class_id)\n",
    "\n",
    "        # Pack instance masks into an array\n",
    "        if class_ids:\n",
    "            mask = np.stack(instance_masks, axis=2).astype(np.bool)\n",
    "            class_ids = np.array(class_ids, dtype=np.int32)\n",
    "            return mask, class_ids\n",
    "\n",
    "\n",
    "    def image_reference(self, image_id):\n",
    "        \"\"\"Return a link to the image in its source Website or details about\n",
    "        the image that help looking it up or debugging it.\n",
    "        Override for your dataset, but pass to this function\n",
    "        if you encounter images not in your dataset.\n",
    "        \"\"\"\n",
    "        # assume user provided the integer id of the image\n",
    "        for img in self.image_info:\n",
    "            if img['id'] == image_id:\n",
    "                return img['path']\n",
    "\n",
    "        # check if the user entered the file name\n",
    "        for img in self.image_info:\n",
    "            if img['file_name'] == image_id:\n",
    "                return img['path']\n",
    "\n",
    "        print (\"Image '{}' not found.\".format(image_id))\n",
    "        return None\n",
    "\n",
    "\n",
    "    def kaggle_rle_decode(self, ann, h, w):\n",
    "        \"\"\"\n",
    "        https://github.com/amirassov/kaggle-imaterialist/blob/master/src/rle.py\n",
    "        Takes uncompressed RLE for a single mask.  Returns binary mask.\n",
    "        param: ann - annotation including uncompressed rle in ['segmentation']['counts'] \n",
    "        -- where counts is a list of integers.  Also includes 'size' which is a list [int(h), int(w)] \n",
    "        \"\"\"\n",
    "        rle = ann['segmentation']['counts']\n",
    "\n",
    "        starts, lengths = map(np.asarray, (rle[::2], rle[1::2]))\n",
    "        starts -= 1\n",
    "        ends = starts + lengths\n",
    "        img = np.zeros(h * w, dtype=np.uint8)\n",
    "        for lo, hi in zip(starts, ends):\n",
    "            img[lo:hi] = 1\n",
    "        return img.reshape((w, h)).T"
   ]
  },
  {
   "cell_type": "code",
   "execution_count": 24,
   "metadata": {},
   "outputs": [],
   "source": [
    "def create_train_val_datasets(images_file:str, \n",
    "                              cat_file:str, \n",
    "                              split:float=0.8, \n",
    "                              limit:int=None) -> (FashionDataset,FashionDataset):\n",
    "    \"\"\"\n",
    "    Returns a train and a val dataset object.\n",
    "    If limit is None, all entries in file will be used as the population.\n",
    "    \"\"\"\n",
    "    # split the train.csv file into train and val dataframes\n",
    "    df_images = pd.read_csv(images_file, nrows=limit)\n",
    "    \n",
    "    # OPTN1: split so that some images will have some annotations in train and others in val\n",
    "#     df_train, df_val = train_test_split(df_images , train_size=split)\n",
    "    \n",
    "    # OPTN2: split to that images' annotations are not in defferent sets\n",
    "    image_filenames = np.unique(df_images.ImageId)\n",
    "    train_imgids, val_imgids = train_test_split(image_filenames , train_size=.8)\n",
    "    \n",
    "    # Create empty objects\n",
    "    fash_train = FashionDataset()\n",
    "    fash_val = FashionDataset()\n",
    "    \n",
    "    # build classes in dataset objects\n",
    "    train_classes = fash_train.create_classes(cat_file) # takes seconds\n",
    "    val_classes   = fash_val.create_classes(cat_file)   # takes seconds\n",
    "    \n",
    "    # load image references and masks into dataset objects\n",
    "    print(\"Building trainig dataset...\")\n",
    "    train_image_info = fash_train.create_images( images_file, train_dir, train_imgids, limit=limit) \n",
    "    print(\"Building validation dataset...\")\n",
    "    val_image_info   = fash_val.create_images(   images_file, train_dir, val_imgids,   limit=limit) \n",
    "    \n",
    "    fash_train.prepare()\n",
    "    fash_val.prepare()\n",
    "    \n",
    "    return fash_train, fash_val"
   ]
  },
  {
   "cell_type": "markdown",
   "metadata": {},
   "source": [
    "### Load FasionDataset Objects\n",
    "If you have saved the datasets, you can load them, it resplit and build them again."
   ]
  },
  {
   "cell_type": "code",
   "execution_count": 19,
   "metadata": {},
   "outputs": [],
   "source": [
    "# import pickle\n",
    "\n",
    "# Use pickle to save history for later use\n",
    "def pickle_save(variable, save_dir, pickel_fileName):\n",
    "    save_file = os.path.join(save_dir, pickel_fileName)\n",
    "    if os.path.isdir(save_dir) == 0:\n",
    "        os.mkdir(save_dir)\n",
    "    with open(save_file, 'wb') as f:\n",
    "        pickle.dump(variable, f)\n",
    "\n",
    "\n",
    "# Loading a prevously saved pickle file\n",
    "def pickle_load(save_dir, pickel_fileName):\n",
    "    # Getting back the data:\n",
    "    pickle_filepath = os.path.join(save_dir, pickel_fileName)\n",
    "    with open(pickle_filepath, 'rb') as f:\n",
    "        data = pickle.load(f)\n",
    "        return data"
   ]
  },
  {
   "cell_type": "code",
   "execution_count": 25,
   "metadata": {},
   "outputs": [],
   "source": [
    "# NOTE: There are 300k line images in the full training list\n",
    "# fash_train, fash_val = create_train_val_datasets( images_file, \n",
    "#                                                   cat_file, \n",
    "#                                                   split=0.9, \n",
    "#                                                   limit=20000)\n",
    "\n",
    "# pickle_save(fash_train, data_dir, 'fashion_train_dataset_20k.pkl')\n",
    "# pickle_save(fash_val, data_dir, 'fashion_val_dataset_20k.pkl')"
   ]
  },
  {
   "cell_type": "code",
   "execution_count": 26,
   "metadata": {},
   "outputs": [],
   "source": [
    "fash_train = pickle_load(data_dir, 'fashion_train_dataset_10k.pkl')\n",
    "fash_val = pickle_load(data_dir, 'fashion_val_dataset_10k.pkl')\n"
   ]
  },
  {
   "cell_type": "code",
   "execution_count": 29,
   "metadata": {},
   "outputs": [],
   "source": [
    "im_height = 128\n",
    "im_width = 128\n",
    "im_channels = 3\n",
    "im_shape = (im_height, im_width, im_channels)\n",
    "n_classes = len(fash_train.class_ids)"
   ]
  },
  {
   "cell_type": "code",
   "execution_count": 30,
   "metadata": {},
   "outputs": [],
   "source": [
    "# U-Net architecture\n",
    "def UNet(input_img):\n",
    "\n",
    "    # Contracting Path\n",
    "    enc1 = Conv2D(64, (3,3), activation='relu', padding='same')(input_img)\n",
    "    enc1 = Conv2D(64, (3,3), activation='relu', padding='same')(enc1)\n",
    "    \n",
    "    enc2 = MaxPooling2D(pool_size=(2,2))(enc1)\n",
    "    enc2 = Conv2D(128, (3,3), activation='relu', padding='same')(enc2)\n",
    "    enc2 = Conv2D(128, (3,3), activation='relu', padding='same')(enc2)\n",
    "    \n",
    "    enc3 = MaxPooling2D(pool_size=(2,2))(enc2)\n",
    "    enc3 = Conv2D(256, (3,3), activation='relu', padding='same')(enc3)\n",
    "    enc3 = Conv2D(256, (3,3), activation='relu', padding='same')(enc3)\n",
    "    \n",
    "    enc4 = MaxPooling2D(pool_size=(2,2))(enc3)\n",
    "    enc4 = Conv2D(512, (3,3), activation='relu', padding='same')(enc4)\n",
    "    enc4 = Conv2D(512, (3,3), activation='relu', padding='same')(enc4)\n",
    "    \n",
    "    encoder = MaxPooling2D(pool_size=(2,2))(enc4)\n",
    "    encoder = Conv2D(1024, (3,3), activation='relu', padding='same')(encoder)\n",
    "    encoder = Conv2D(1024, (3,3), activation='relu', padding='same')(encoder)\n",
    "    \n",
    "    # Expansive Path\n",
    "    dec4 = UpSampling2D((2,2))(encoder)\n",
    "    dec4 = concatenate([dec4,enc4])\n",
    "    dec4 = Conv2D(512, (3,3), activation='relu', padding='same')(dec4)\n",
    "    dec4 = Conv2D(512, (3,3), activation='relu', padding='same')(dec4)\n",
    "    \n",
    "    dec3 = UpSampling2D((2,2))(dec4)\n",
    "    dec3 = concatenate([dec3,enc3])\n",
    "    dec3 = Conv2D(256, (3,3), activation='relu', padding='same')(dec3)\n",
    "    dec3 = Conv2D(256, (3,3), activation='relu', padding='same')(dec3)\n",
    "    \n",
    "    dec2 = UpSampling2D((2,2))(dec3)\n",
    "    dec2 = concatenate([dec2,enc2])\n",
    "    dec2 = Conv2D(128, (3,3), activation='relu', padding='same')(dec2)\n",
    "    dec2 = Conv2D(128, (3,3), activation='relu', padding='same')(dec2)\n",
    "    \n",
    "    dec1 = UpSampling2D((2,2))(dec2)\n",
    "    dec1 = concatenate([dec1,enc1])\n",
    "    dec1 = Conv2D(64, (3,3), activation='relu', padding='same')(dec1)\n",
    "    \n",
    "    # c_exp = final feature maps from expansive path\n",
    "    c_exp = Conv2D(64, (3,3), activation='relu', padding='same')(dec1)\n",
    "    \n",
    "    # output layer must change\n",
    "    outputs = Conv2D(n_classes, (1, 1), activation='softmax')(c_exp)\n",
    "    print(\"outputs shape: \", outputs.shape)\n",
    "    \n",
    "    model = Model(inputs=[input_img], outputs=[outputs])\n",
    "    return model"
   ]
  },
  {
   "cell_type": "markdown",
   "metadata": {},
   "source": [
    "### Generators for Images and Masks"
   ]
  },
  {
   "cell_type": "code",
   "execution_count": 31,
   "metadata": {},
   "outputs": [],
   "source": [
    "class ImgMask_sequencer(keras.utils.Sequence):\n",
    "    \"\"\"\n",
    "    Create batch generator based on Dataset object.\n",
    "    Returns images and masks resize to target_size provided.\n",
    "    \"\"\"\n",
    "\n",
    "    def __init__(self, dataset, batch_size:int=32, name:str=None, target_size:tuple=(im_height,im_width)):\n",
    "\n",
    "        self.dataset      = dataset\n",
    "        self.batch_size   = batch_size\n",
    "        self.length       = len(self.dataset.image_info)\n",
    "        self.num_batches  = int(self.length / self.batch_size)+1\n",
    "        self.name         = name\n",
    "        self.target_size  = target_size\n",
    "        self.classes      = self.dataset.source_class_ids['imaterialist']\n",
    "        self.num_classes  = len(self.classes)\n",
    "\n",
    "        print(\"Creating Generator '{}':\".format(self.name))\n",
    "        print(\"\\tbatch size : \", self.batch_size)\n",
    "        print(\"\\tlength     : \", self.length)\n",
    "        print(\"\\tnum batches: \", self.num_batches)\n",
    "        print(\"\\ttarget size: \", self.target_size)\n",
    "        \n",
    "    def __len__(self):\n",
    "        return self.num_batches\n",
    "    \n",
    "    def __getitem__(self, idx):\n",
    "\n",
    "        img_ids    = self.dataset.image_ids\n",
    "       \n",
    "        # get batch_num number of entries from dataset\n",
    "        images, masks = [], []\n",
    "        start = self.batch_size * idx\n",
    "        end   = self.batch_size * (idx+1)\n",
    "\n",
    "        for i in img_ids[start:end]:\n",
    "            # load image and resize\n",
    "            img  = self.dataset.load_image(i)\n",
    "            img  = np.resize(img, (self.target_size[0], self.target_size[1], 3))\n",
    "#             img, window, scale, padding, crop  = utils.resize_image(img, max_dim=self.target_size[0], mode='square')\n",
    "\n",
    "            # load mask and resize\n",
    "            mask, mask_classes = self.dataset.load_mask(i)\n",
    "            mask  = np.resize(mask, (self.target_size[0], self.target_size[1], 3))\n",
    "#             mask = utils.resize_mask(mask, scale, padding, crop)\n",
    "            \n",
    "            # create stacked mask\n",
    "            stacked_mask = np.zeros(shape=(im_shape[0], im_shape[1], self.num_classes))\n",
    "            for i, msk_class in enumerate(mask_classes):\n",
    "                stacked_mask[:,:,msk_class] = mask[:,:,i]\n",
    "\n",
    "            images.append(img/255)\n",
    "            masks.append(stacked_mask)\n",
    "\n",
    "        return np.stack(images, axis=0), np.stack(masks, axis=0)\n"
   ]
  },
  {
   "cell_type": "markdown",
   "metadata": {},
   "source": [
    "### Defin UNET model Structure"
   ]
  },
  {
   "cell_type": "code",
   "execution_count": 32,
   "metadata": {},
   "outputs": [
    {
     "name": "stderr",
     "output_type": "stream",
     "text": [
      "INFO:plaidml:Opening device \"metal_amd_radeon_rx_vega_64.0\"\n"
     ]
    },
    {
     "name": "stdout",
     "output_type": "stream",
     "text": [
      "outputs shape:  Shape(dtype=<DType.FLOAT32: 50>, dims=(<tile.Value Operation UINT64()>, 128, 128, 47))\n",
      "__________________________________________________________________________________________________\n",
      "Layer (type)                    Output Shape         Param #     Connected to                     \n",
      "==================================================================================================\n",
      "img (InputLayer)                (None, 128, 128, 3)  0                                            \n",
      "__________________________________________________________________________________________________\n",
      "conv2d_1 (Conv2D)               (None, 128, 128, 64) 1792        img[0][0]                        \n",
      "__________________________________________________________________________________________________\n",
      "conv2d_2 (Conv2D)               (None, 128, 128, 64) 36928       conv2d_1[0][0]                   \n",
      "__________________________________________________________________________________________________\n",
      "max_pooling2d_1 (MaxPooling2D)  (None, 64, 64, 64)   0           conv2d_2[0][0]                   \n",
      "__________________________________________________________________________________________________\n",
      "conv2d_3 (Conv2D)               (None, 64, 64, 128)  73856       max_pooling2d_1[0][0]            \n",
      "__________________________________________________________________________________________________\n",
      "conv2d_4 (Conv2D)               (None, 64, 64, 128)  147584      conv2d_3[0][0]                   \n",
      "__________________________________________________________________________________________________\n",
      "max_pooling2d_2 (MaxPooling2D)  (None, 32, 32, 128)  0           conv2d_4[0][0]                   \n",
      "__________________________________________________________________________________________________\n",
      "conv2d_5 (Conv2D)               (None, 32, 32, 256)  295168      max_pooling2d_2[0][0]            \n",
      "__________________________________________________________________________________________________\n",
      "conv2d_6 (Conv2D)               (None, 32, 32, 256)  590080      conv2d_5[0][0]                   \n",
      "__________________________________________________________________________________________________\n",
      "max_pooling2d_3 (MaxPooling2D)  (None, 16, 16, 256)  0           conv2d_6[0][0]                   \n",
      "__________________________________________________________________________________________________\n",
      "conv2d_7 (Conv2D)               (None, 16, 16, 512)  1180160     max_pooling2d_3[0][0]            \n",
      "__________________________________________________________________________________________________\n",
      "conv2d_8 (Conv2D)               (None, 16, 16, 512)  2359808     conv2d_7[0][0]                   \n",
      "__________________________________________________________________________________________________\n",
      "max_pooling2d_4 (MaxPooling2D)  (None, 8, 8, 512)    0           conv2d_8[0][0]                   \n",
      "__________________________________________________________________________________________________\n",
      "conv2d_9 (Conv2D)               (None, 8, 8, 1024)   4719616     max_pooling2d_4[0][0]            \n",
      "__________________________________________________________________________________________________\n",
      "conv2d_10 (Conv2D)              (None, 8, 8, 1024)   9438208     conv2d_9[0][0]                   \n",
      "__________________________________________________________________________________________________\n",
      "up_sampling2d_1 (UpSampling2D)  (None, 16, 16, 1024) 0           conv2d_10[0][0]                  \n",
      "__________________________________________________________________________________________________\n",
      "concatenate_1 (Concatenate)     (None, 16, 16, 1536) 0           up_sampling2d_1[0][0]            \n",
      "                                                                 conv2d_8[0][0]                   \n",
      "__________________________________________________________________________________________________\n",
      "conv2d_11 (Conv2D)              (None, 16, 16, 512)  7078400     concatenate_1[0][0]              \n",
      "__________________________________________________________________________________________________\n",
      "conv2d_12 (Conv2D)              (None, 16, 16, 512)  2359808     conv2d_11[0][0]                  \n",
      "__________________________________________________________________________________________________\n",
      "up_sampling2d_2 (UpSampling2D)  (None, 32, 32, 512)  0           conv2d_12[0][0]                  \n",
      "__________________________________________________________________________________________________\n",
      "concatenate_2 (Concatenate)     (None, 32, 32, 768)  0           up_sampling2d_2[0][0]            \n",
      "                                                                 conv2d_6[0][0]                   \n",
      "__________________________________________________________________________________________________\n",
      "conv2d_13 (Conv2D)              (None, 32, 32, 256)  1769728     concatenate_2[0][0]              \n",
      "__________________________________________________________________________________________________\n",
      "conv2d_14 (Conv2D)              (None, 32, 32, 256)  590080      conv2d_13[0][0]                  \n",
      "__________________________________________________________________________________________________\n",
      "up_sampling2d_3 (UpSampling2D)  (None, 64, 64, 256)  0           conv2d_14[0][0]                  \n",
      "__________________________________________________________________________________________________\n",
      "concatenate_3 (Concatenate)     (None, 64, 64, 384)  0           up_sampling2d_3[0][0]            \n",
      "                                                                 conv2d_4[0][0]                   \n",
      "__________________________________________________________________________________________________\n",
      "conv2d_15 (Conv2D)              (None, 64, 64, 128)  442496      concatenate_3[0][0]              \n",
      "__________________________________________________________________________________________________\n",
      "conv2d_16 (Conv2D)              (None, 64, 64, 128)  147584      conv2d_15[0][0]                  \n",
      "__________________________________________________________________________________________________\n",
      "up_sampling2d_4 (UpSampling2D)  (None, 128, 128, 128 0           conv2d_16[0][0]                  \n",
      "__________________________________________________________________________________________________\n",
      "concatenate_4 (Concatenate)     (None, 128, 128, 192 0           up_sampling2d_4[0][0]            \n",
      "                                                                 conv2d_2[0][0]                   \n",
      "__________________________________________________________________________________________________\n",
      "conv2d_17 (Conv2D)              (None, 128, 128, 64) 110656      concatenate_4[0][0]              \n",
      "__________________________________________________________________________________________________\n",
      "conv2d_18 (Conv2D)              (None, 128, 128, 64) 36928       conv2d_17[0][0]                  \n",
      "__________________________________________________________________________________________________\n",
      "conv2d_19 (Conv2D)              (None, 128, 128, 47) 3055        conv2d_18[0][0]                  \n",
      "==================================================================================================\n",
      "Total params: 31,381,935\n",
      "Trainable params: 31,381,935\n",
      "Non-trainable params: 0\n",
      "__________________________________________________________________________________________________\n"
     ]
    }
   ],
   "source": [
    "\n",
    "\n",
    "model = UNet(Input(im_shape, name='img'))\n",
    "\n",
    "model.summary()"
   ]
  },
  {
   "cell_type": "markdown",
   "metadata": {},
   "source": [
    "### Train Model"
   ]
  },
  {
   "cell_type": "code",
   "execution_count": 33,
   "metadata": {
    "scrolled": false
   },
   "outputs": [
    {
     "data": {
      "text/html": [
       "\n",
       "      <iframe id=\"tensorboard-frame-da86aba11ce89d4c\" width=\"100%\" height=\"800\" frameborder=\"0\">\n",
       "      </iframe>\n",
       "      <script>\n",
       "        (function() {\n",
       "          const frame = document.getElementById(\"tensorboard-frame-da86aba11ce89d4c\");\n",
       "          const url = new URL(\"/\", window.location);\n",
       "          url.port = 6006;\n",
       "          frame.src = url;\n",
       "        })();\n",
       "      </script>\n",
       "  "
      ],
      "text/plain": [
       "<IPython.core.display.HTML object>"
      ]
     },
     "metadata": {},
     "output_type": "display_data"
    }
   ],
   "source": [
    "# add tensorboard to notebook\n",
    "%load_ext tensorboard\n",
    "\n",
    "logs_base_dir = \"./logs\"\n",
    "os.makedirs(logs_base_dir, exist_ok=True)\n",
    "%tensorboard --logdir {logs_base_dir}"
   ]
  },
  {
   "cell_type": "code",
   "execution_count": 34,
   "metadata": {},
   "outputs": [
    {
     "name": "stdout",
     "output_type": "stream",
     "text": [
      "Creating Generator 'Train Generator':\n",
      "\tbatch size :  128\n",
      "\tlength     :  8032\n",
      "\tnum batches:  63\n",
      "\ttarget size:  (128, 128)\n",
      "Creating Generator 'Val Generator':\n",
      "\tbatch size :  128\n",
      "\tlength     :  1968\n",
      "\tnum batches:  16\n",
      "\ttarget size:  (128, 128)\n",
      "WARNING:tensorflow:From /anaconda3/envs/cs25/lib/python3.6/site-packages/keras/callbacks/tensorboard_v1.py:200: The name tf.summary.merge_all is deprecated. Please use tf.compat.v1.summary.merge_all instead.\n",
      "\n",
      "WARNING:tensorflow:From /anaconda3/envs/cs25/lib/python3.6/site-packages/keras/callbacks/tensorboard_v1.py:206: The name tf.summary.FileWriter is deprecated. Please use tf.compat.v1.summary.FileWriter instead.\n",
      "\n",
      "Epoch 1/5\n"
     ]
    },
    {
     "name": "stderr",
     "output_type": "stream",
     "text": [
      "INFO:plaidml:Analyzing Ops: 210 of 426 operations complete\n"
     ]
    },
    {
     "name": "stdout",
     "output_type": "stream",
     "text": [
      " 1/63 [..............................] - ETA: 1:10:33 - loss: 0.5286 - acc: 7.1192e-04WARNING:tensorflow:From /anaconda3/envs/cs25/lib/python3.6/site-packages/keras/callbacks/tensorboard_v1.py:343: The name tf.Summary is deprecated. Please use tf.compat.v1.Summary instead.\n",
      "\n",
      "30/63 [=============>................] - ETA: 34:37 - loss: 0.6008 - acc: 0.0086"
     ]
    },
    {
     "name": "stderr",
     "output_type": "stream",
     "text": [
      "INFO:plaidml:Analyzing Ops: 210 of 426 operations complete\n"
     ]
    },
    {
     "name": "stdout",
     "output_type": "stream",
     "text": [
      "63/63 [==============================] - 3964s 63s/step - loss: 0.5979 - acc: 0.0164 - val_loss: 0.6356 - val_acc: 0.0350\n",
      "\n",
      "Epoch 00001: val_loss improved from inf to 0.63563, saving model to ./logs/20191130-173356/model-unet-fashion.h5\n",
      "Epoch 2/5\n",
      "63/63 [==============================] - 3585s 57s/step - loss: 0.5903 - acc: 0.0257 - val_loss: 0.6245 - val_acc: 0.0351\n",
      "\n",
      "Epoch 00002: val_loss improved from 0.63563 to 0.62452, saving model to ./logs/20191130-173356/model-unet-fashion.h5\n",
      "Epoch 3/5\n",
      "63/63 [==============================] - 3649s 58s/step - loss: 0.5763 - acc: 0.0257 - val_loss: 0.5995 - val_acc: 0.0351\n",
      "\n",
      "Epoch 00003: val_loss improved from 0.62452 to 0.59953, saving model to ./logs/20191130-173356/model-unet-fashion.h5\n",
      "Epoch 4/5\n",
      "63/63 [==============================] - 3633s 58s/step - loss: 0.5346 - acc: 0.0257 - val_loss: 0.5221 - val_acc: 0.0351\n",
      "\n",
      "Epoch 00004: val_loss improved from 0.59953 to 0.52210, saving model to ./logs/20191130-173356/model-unet-fashion.h5\n",
      "Epoch 5/5\n",
      "63/63 [==============================] - 3662s 58s/step - loss: 0.4766 - acc: 0.0226 - val_loss: 0.4812 - val_acc: 0.0351\n",
      "\n",
      "Epoch 00005: val_loss improved from 0.52210 to 0.48116, saving model to ./logs/20191130-173356/model-unet-fashion.h5\n"
     ]
    }
   ],
   "source": [
    "# Train Model\n",
    "batch_size=128\n",
    "\n",
    "# Setup callbacks\n",
    "logdir=os.path.join(logs_base_dir, datetime.datetime.now().strftime(\"%Y%m%d-%H%M%S\"))\n",
    "callbacks = [\n",
    "    EarlyStopping(patience=3, verbose=1),\n",
    "    ReduceLROnPlateau(factor=0.1, patience=3, min_lr=0.00001, verbose=1),\n",
    "    ModelCheckpoint(os.path.join(logdir,'model-unet-fashion.h5'), verbose=1, save_best_only=True, save_weights_only=True),\n",
    "    TensorBoard(log_dir=logdir, histogram_freq=0, batch_size=batch_size, update_freq='batch')\n",
    "]\n",
    "\n",
    "img_dir = os.path.join(data_dir, 'train', 'train_images', 'images')\n",
    "mask_dir = os.path.join(data_dir, 'train', 'train_masks', 'masks')\n",
    "\n",
    "len_train = len(fash_train.image_info)\n",
    "len_val   = len(fash_val.image_info)\n",
    "\n",
    "# Get generators for training and validation\n",
    "train_gen  = ImgMask_sequencer(  fash_train, \n",
    "                                 batch_size=batch_size,\n",
    "                                 name=\"Train Generator\",\n",
    "                                 target_size=(im_height,im_width))\n",
    "\n",
    "val_gen   = ImgMask_sequencer(   fash_val, \n",
    "                                 batch_size=batch_size,\n",
    "                                 name=\"Val Generator\",\n",
    "                                 target_size=(im_height,im_width))\n",
    "\n",
    "optimizer = SGD(lr=.002,momentum=.9)\n",
    "#optimizer = Adam(lr=.005)\n",
    "model.compile(optimizer=optimizer, \n",
    "              loss=\"categorical_crossentropy\", \n",
    "              metrics=[\"accuracy\"])\n",
    "\n",
    "results = model.fit_generator(  train_gen,  \n",
    "                                epochs=8,\n",
    "                                callbacks=callbacks, \n",
    "                                validation_data=val_gen) #,\n",
    "#                                 use_multiprocessing=True, workers=4)"
   ]
  },
  {
   "cell_type": "markdown",
   "metadata": {},
   "source": [
    "After training tasks:\n",
    "> change batch size to 64\n",
    "\n",
    "> consider using Adam again (didn't help)\n",
    "\n",
    "> consider increasing im size to 256\n",
    "\n",
    "> change the resizeing strategy to avoid bars - retrain with SGD .001\n",
    "\n"
   ]
  },
  {
   "cell_type": "code",
   "execution_count": 35,
   "metadata": {},
   "outputs": [],
   "source": [
    "model.save('model-unet-fashion-5epochs1.h5')"
   ]
  },
  {
   "cell_type": "code",
   "execution_count": 53,
   "metadata": {},
   "outputs": [
    {
     "name": "stdout",
     "output_type": "stream",
     "text": [
      "Epoch 1/5\n",
      "63/63 [==============================] - 4160s 66s/step - loss: 2.0734 - acc: 0.0257 - val_loss: 2.0630 - val_acc: 0.0351\n",
      "\n",
      "Epoch 00001: val_loss did not improve from 0.48116\n",
      "Epoch 2/5\n",
      "63/63 [==============================] - 3942s 63s/step - loss: 2.0734 - acc: 0.0257 - val_loss: 2.0630 - val_acc: 0.0351\n",
      "\n",
      "Epoch 00002: val_loss did not improve from 0.48116\n",
      "Epoch 3/5\n",
      "63/63 [==============================] - 3923s 62s/step - loss: 2.0734 - acc: 0.0257 - val_loss: 2.0630 - val_acc: 0.0351\n",
      "\n",
      "Epoch 00003: val_loss did not improve from 0.48116\n",
      "Epoch 4/5\n",
      "63/63 [==============================] - 3900s 62s/step - loss: 2.0734 - acc: 0.0257 - val_loss: 2.0630 - val_acc: 0.0351\n",
      "\n",
      "Epoch 00004: ReduceLROnPlateau reducing learning rate to 0.010000000149011612.\n",
      "\n",
      "Epoch 00004: val_loss did not improve from 0.48116\n",
      "Epoch 00004: early stopping\n"
     ]
    }
   ],
   "source": [
    "# optimizer = Adam(lr=.005) # This made the loss increase - acc stayed the same\n",
    "optimizer = SGD(lr=.1,momentum=.9) # increase LR to break out of local minimum\n",
    "model.compile(optimizer=optimizer, \n",
    "              loss=\"categorical_crossentropy\", \n",
    "              metrics=[\"accuracy\"])\n",
    "\n",
    "results = model.fit_generator(  train_gen,  \n",
    "                                epochs=5,\n",
    "                                callbacks=callbacks, \n",
    "                                validation_data=val_gen,\n",
    "                                use_multiprocessing=True, workers=4)"
   ]
  },
  {
   "cell_type": "code",
   "execution_count": 37,
   "metadata": {},
   "outputs": [],
   "source": [
    "model.save('model-unet-fashion-8epochs2.h5')"
   ]
  },
  {
   "cell_type": "code",
   "execution_count": null,
   "metadata": {},
   "outputs": [],
   "source": []
  },
  {
   "cell_type": "code",
   "execution_count": null,
   "metadata": {},
   "outputs": [],
   "source": []
  },
  {
   "cell_type": "markdown",
   "metadata": {},
   "source": [
    "### RESNET152V2\n",
    "Using pre-trained weights to improve trainin speed.\n",
    "\n",
    "Here, we use pre-trained RESNET weights to start the model.  We will only import the top of the network and add new layers at the bottom to reflect our desired output.\n",
    "\n",
    "The strategy is to used the pretrained RESNET as the encoder and then train a UNET decoder.  We will use RESNET as the base and add the UNET decoder layers, then freeze the RESNET encoder and train the model.\n",
    "\n"
   ]
  },
  {
   "cell_type": "code",
   "execution_count": 76,
   "metadata": {},
   "outputs": [],
   "source": [
    "\n",
    "def UNet_Resnet(encoder, target_shape:tuple=(256,256,3)):\n",
    "\n",
    "    \n",
    "\n",
    "    # add layers on top of the base model\n",
    "    encoder = resnet.output\n",
    "    encoder = MaxPooling2D(pool_size=(2,2))(encoder)\n",
    "    encoder = Conv2D(1024, (3,3), activation='relu', padding='same')(encoder)\n",
    "\n",
    "    # Decoder Path\n",
    "    dec4 = UpSampling2D((2,2))(encoder)\n",
    "    dec4 = concatenate([dec4,resnet.get_layer('conv4_block36_out').output]) # each/ 8,8,1024\n",
    "    dec4 = Conv2D(1024, (3,3), activation='relu', padding='same')(dec4)\n",
    "    dec4 = Conv2D(1024, (3,3), activation='relu', padding='same')(dec4)\n",
    "\n",
    "    dec3 = UpSampling2D((2,2))(dec4)\n",
    "    dec3 = concatenate([dec3,resnet.get_layer('conv3_block8_out').output]) # each/ 16,16,512\n",
    "    dec3 = Conv2D(512, (3,3), activation='relu', padding='same')(dec3)\n",
    "    dec3 = Conv2D(512, (3,3), activation='relu', padding='same')(dec3)\n",
    "\n",
    "    dec2 = UpSampling2D((2,2))(dec3)\n",
    "    dec2 = concatenate([dec2,resnet.get_layer('conv2_block3_out').output]) # each/ 32,32,256\n",
    "    dec2 = Conv2D(256, (3,3), activation='relu', padding='same')(dec2)\n",
    "    dec2 = Conv2D(256, (3,3), activation='relu', padding='same')(dec2)\n",
    "\n",
    "    dec1 = UpSampling2D((2,2))(dec2)\n",
    "    dec1 = concatenate([dec1,resnet.get_layer('pool1_pool').output]) # each/ 64,64,64\n",
    "    dec1 = Conv2D(64, (3,3), activation='relu', padding='same')(dec1)\n",
    "    dec1 = Conv2D(64, (3,3), activation='relu', padding='same')(dec1)\n",
    "\n",
    "    dec0 = UpSampling2D((2,2))(dec1)\n",
    "    dec0 = concatenate([dec0,resnet.get_layer('conv1_conv').output]) # each/ 64,64,64\n",
    "    dec0 = Conv2D(32, (3,3), activation='relu', padding='same')(dec0)\n",
    "    dec0 = Conv2D(32, (3,3), activation='relu', padding='same')(dec0)\n",
    "\n",
    "    dec00 = UpSampling2D((2,2))(dec0)\n",
    "    dec00 = concatenate([dec00,resnet.get_layer('input_4').output]) # each/ 64,64,64\n",
    "    dec00 = Conv2D(16, (3,3), activation='relu', padding='same')(dec00)\n",
    "    c_exp = Conv2D(16, (3,3), activation='relu', padding='same')(dec00)\n",
    "\n",
    "    outputs = Conv2D(n_classes, (1, 1), activation='softmax')(c_exp)\n",
    "    print(\"outputs shape: \", outputs.shape)\n",
    "\n",
    "\n",
    "    # set up model\n",
    "    model = Model(inputs=resnet.input, outputs=outputs)\n",
    "    \n",
    "    return model"
   ]
  },
  {
   "cell_type": "code",
   "execution_count": 77,
   "metadata": {},
   "outputs": [],
   "source": [
    "# import resent encoder with weights\n",
    "resnet = ResNet152V2(include_top=False, \n",
    "                 weights='imagenet', \n",
    "                 input_tensor=None, \n",
    "                 input_shape=(128,128,3), \n",
    "                 pooling=None, \n",
    "                 classes=1000)"
   ]
  },
  {
   "cell_type": "code",
   "execution_count": 78,
   "metadata": {},
   "outputs": [
    {
     "name": "stdout",
     "output_type": "stream",
     "text": [
      "outputs shape:  Shape(dtype=<DType.FLOAT32: 50>, dims=(<tile.Value Operation UINT64()>, 128, 128, 47))\n"
     ]
    }
   ],
   "source": [
    "model_resnet = UNet_Resnet(encoder=resnet, target_shape=(256,256,3))"
   ]
  },
  {
   "cell_type": "code",
   "execution_count": 85,
   "metadata": {},
   "outputs": [],
   "source": [
    "# set trainable layers - conv 5 and after\n",
    "istrainable = False\n",
    "for layer in model_resnet.layers:\n",
    "    if layer.name=='conv5_block1_preact_bn':\n",
    "        istrainable = True\n",
    "    \n",
    "    layer.trainable = istrainable\n",
    "        "
   ]
  },
  {
   "cell_type": "code",
   "execution_count": 88,
   "metadata": {
    "scrolled": false
   },
   "outputs": [
    {
     "name": "stdout",
     "output_type": "stream",
     "text": [
      "Creating Generator 'Train Generator':\n",
      "\tbatch size :  128\n",
      "\tlength     :  8032\n",
      "\tnum batches:  63\n",
      "\ttarget size:  (128, 128)\n",
      "Creating Generator 'Val Generator':\n",
      "\tbatch size :  128\n",
      "\tlength     :  1968\n",
      "\tnum batches:  16\n",
      "\ttarget size:  (128, 128)\n",
      "Epoch 1/10\n"
     ]
    },
    {
     "name": "stderr",
     "output_type": "stream",
     "text": [
      "INFO:plaidml:Analyzing Ops: 821 of 4156 operations complete\n",
      "INFO:plaidml:Analyzing Ops: 2686 of 4156 operations complete\n"
     ]
    },
    {
     "name": "stdout",
     "output_type": "stream",
     "text": [
      "31/63 [=============>................] - ETA: 26:27 - loss: 2.5149 - acc: 0.0000e+00"
     ]
    },
    {
     "name": "stderr",
     "output_type": "stream",
     "text": [
      "INFO:plaidml:Analyzing Ops: 1728 of 4156 operations complete\n",
      "INFO:plaidml:Analyzing Ops: 3125 of 4156 operations complete\n"
     ]
    },
    {
     "name": "stdout",
     "output_type": "stream",
     "text": [
      "62/63 [============================>.] - ETA: 49s - loss: 2.5184 - acc: 0.0000e+00 "
     ]
    },
    {
     "name": "stderr",
     "output_type": "stream",
     "text": [
      "INFO:plaidml:Analyzing Ops: 1469 of 1955 operations complete\n",
      "INFO:plaidml:Analyzing Ops: 1881 of 1955 operations complete\n"
     ]
    },
    {
     "name": "stdout",
     "output_type": "stream",
     "text": [
      "63/63 [==============================] - 3293s 52s/step - loss: 2.5198 - acc: 0.0000e+00 - val_loss: 2.6993 - val_acc: 0.0000e+00\n",
      "\n",
      "Epoch 00001: val_loss improved from inf to 2.69933, saving model to ./logs/20191201-183021/model-unet-resnet-fashion.h5\n",
      "Epoch 2/10\n",
      "63/63 [==============================] - 3035s 48s/step - loss: 2.5198 - acc: 0.0000e+00 - val_loss: 2.6988 - val_acc: 0.0000e+00\n",
      "\n",
      "Epoch 00002: val_loss improved from 2.69933 to 2.69884, saving model to ./logs/20191201-183021/model-unet-resnet-fashion.h5\n",
      "Epoch 3/10\n",
      "63/63 [==============================] - 3033s 48s/step - loss: 2.5199 - acc: 0.0000e+00 - val_loss: 2.6984 - val_acc: 0.0000e+00\n",
      "\n",
      "Epoch 00003: val_loss improved from 2.69884 to 2.69839, saving model to ./logs/20191201-183021/model-unet-resnet-fashion.h5\n",
      "Epoch 4/10\n",
      "29/63 [============>.................] - ETA: 24:04 - loss: 2.4703 - acc: 0.0000e+00"
     ]
    },
    {
     "ename": "KeyboardInterrupt",
     "evalue": "",
     "output_type": "error",
     "traceback": [
      "\u001b[0;31m---------------------------------------------------------------------------\u001b[0m",
      "\u001b[0;31mKeyboardInterrupt\u001b[0m                         Traceback (most recent call last)",
      "\u001b[0;32m<ipython-input-88-7fe4861f12ec>\u001b[0m in \u001b[0;36m<module>\u001b[0;34m\u001b[0m\n\u001b[1;32m     39\u001b[0m                                 \u001b[0mepochs\u001b[0m\u001b[0;34m=\u001b[0m\u001b[0;36m10\u001b[0m\u001b[0;34m,\u001b[0m\u001b[0;34m\u001b[0m\u001b[0;34m\u001b[0m\u001b[0m\n\u001b[1;32m     40\u001b[0m                                 \u001b[0mcallbacks\u001b[0m\u001b[0;34m=\u001b[0m\u001b[0mcallbacks\u001b[0m\u001b[0;34m,\u001b[0m\u001b[0;34m\u001b[0m\u001b[0;34m\u001b[0m\u001b[0m\n\u001b[0;32m---> 41\u001b[0;31m                                 validation_data=val_gen) #,\n\u001b[0m\u001b[1;32m     42\u001b[0m \u001b[0;31m#                                 use_multiprocessing=True, workers=4)\u001b[0m\u001b[0;34m\u001b[0m\u001b[0;34m\u001b[0m\u001b[0;34m\u001b[0m\u001b[0m\n",
      "\u001b[0;32m/anaconda3/envs/cs25/lib/python3.6/site-packages/keras/legacy/interfaces.py\u001b[0m in \u001b[0;36mwrapper\u001b[0;34m(*args, **kwargs)\u001b[0m\n\u001b[1;32m     89\u001b[0m                 warnings.warn('Update your `' + object_name + '` call to the ' +\n\u001b[1;32m     90\u001b[0m                               'Keras 2 API: ' + signature, stacklevel=2)\n\u001b[0;32m---> 91\u001b[0;31m             \u001b[0;32mreturn\u001b[0m \u001b[0mfunc\u001b[0m\u001b[0;34m(\u001b[0m\u001b[0;34m*\u001b[0m\u001b[0margs\u001b[0m\u001b[0;34m,\u001b[0m \u001b[0;34m**\u001b[0m\u001b[0mkwargs\u001b[0m\u001b[0;34m)\u001b[0m\u001b[0;34m\u001b[0m\u001b[0;34m\u001b[0m\u001b[0m\n\u001b[0m\u001b[1;32m     92\u001b[0m         \u001b[0mwrapper\u001b[0m\u001b[0;34m.\u001b[0m\u001b[0m_original_function\u001b[0m \u001b[0;34m=\u001b[0m \u001b[0mfunc\u001b[0m\u001b[0;34m\u001b[0m\u001b[0;34m\u001b[0m\u001b[0m\n\u001b[1;32m     93\u001b[0m         \u001b[0;32mreturn\u001b[0m \u001b[0mwrapper\u001b[0m\u001b[0;34m\u001b[0m\u001b[0;34m\u001b[0m\u001b[0m\n",
      "\u001b[0;32m/anaconda3/envs/cs25/lib/python3.6/site-packages/keras/engine/training.py\u001b[0m in \u001b[0;36mfit_generator\u001b[0;34m(self, generator, steps_per_epoch, epochs, verbose, callbacks, validation_data, validation_steps, class_weight, max_queue_size, workers, use_multiprocessing, shuffle, initial_epoch)\u001b[0m\n\u001b[1;32m   1416\u001b[0m             \u001b[0muse_multiprocessing\u001b[0m\u001b[0;34m=\u001b[0m\u001b[0muse_multiprocessing\u001b[0m\u001b[0;34m,\u001b[0m\u001b[0;34m\u001b[0m\u001b[0;34m\u001b[0m\u001b[0m\n\u001b[1;32m   1417\u001b[0m             \u001b[0mshuffle\u001b[0m\u001b[0;34m=\u001b[0m\u001b[0mshuffle\u001b[0m\u001b[0;34m,\u001b[0m\u001b[0;34m\u001b[0m\u001b[0;34m\u001b[0m\u001b[0m\n\u001b[0;32m-> 1418\u001b[0;31m             initial_epoch=initial_epoch)\n\u001b[0m\u001b[1;32m   1419\u001b[0m \u001b[0;34m\u001b[0m\u001b[0m\n\u001b[1;32m   1420\u001b[0m     \u001b[0;34m@\u001b[0m\u001b[0minterfaces\u001b[0m\u001b[0;34m.\u001b[0m\u001b[0mlegacy_generator_methods_support\u001b[0m\u001b[0;34m\u001b[0m\u001b[0;34m\u001b[0m\u001b[0m\n",
      "\u001b[0;32m/anaconda3/envs/cs25/lib/python3.6/site-packages/keras/engine/training_generator.py\u001b[0m in \u001b[0;36mfit_generator\u001b[0;34m(model, generator, steps_per_epoch, epochs, verbose, callbacks, validation_data, validation_steps, class_weight, max_queue_size, workers, use_multiprocessing, shuffle, initial_epoch)\u001b[0m\n\u001b[1;32m    179\u001b[0m             \u001b[0mbatch_index\u001b[0m \u001b[0;34m=\u001b[0m \u001b[0;36m0\u001b[0m\u001b[0;34m\u001b[0m\u001b[0;34m\u001b[0m\u001b[0m\n\u001b[1;32m    180\u001b[0m             \u001b[0;32mwhile\u001b[0m \u001b[0msteps_done\u001b[0m \u001b[0;34m<\u001b[0m \u001b[0msteps_per_epoch\u001b[0m\u001b[0;34m:\u001b[0m\u001b[0;34m\u001b[0m\u001b[0;34m\u001b[0m\u001b[0m\n\u001b[0;32m--> 181\u001b[0;31m                 \u001b[0mgenerator_output\u001b[0m \u001b[0;34m=\u001b[0m \u001b[0mnext\u001b[0m\u001b[0;34m(\u001b[0m\u001b[0moutput_generator\u001b[0m\u001b[0;34m)\u001b[0m\u001b[0;34m\u001b[0m\u001b[0;34m\u001b[0m\u001b[0m\n\u001b[0m\u001b[1;32m    182\u001b[0m \u001b[0;34m\u001b[0m\u001b[0m\n\u001b[1;32m    183\u001b[0m                 \u001b[0;32mif\u001b[0m \u001b[0;32mnot\u001b[0m \u001b[0mhasattr\u001b[0m\u001b[0;34m(\u001b[0m\u001b[0mgenerator_output\u001b[0m\u001b[0;34m,\u001b[0m \u001b[0;34m'__len__'\u001b[0m\u001b[0;34m)\u001b[0m\u001b[0;34m:\u001b[0m\u001b[0;34m\u001b[0m\u001b[0;34m\u001b[0m\u001b[0m\n",
      "\u001b[0;32m/anaconda3/envs/cs25/lib/python3.6/site-packages/keras/utils/data_utils.py\u001b[0m in \u001b[0;36mget\u001b[0;34m(self)\u001b[0m\n\u001b[1;32m    593\u001b[0m         \u001b[0;32mtry\u001b[0m\u001b[0;34m:\u001b[0m\u001b[0;34m\u001b[0m\u001b[0;34m\u001b[0m\u001b[0m\n\u001b[1;32m    594\u001b[0m             \u001b[0;32mwhile\u001b[0m \u001b[0mself\u001b[0m\u001b[0;34m.\u001b[0m\u001b[0mis_running\u001b[0m\u001b[0;34m(\u001b[0m\u001b[0;34m)\u001b[0m\u001b[0;34m:\u001b[0m\u001b[0;34m\u001b[0m\u001b[0;34m\u001b[0m\u001b[0m\n\u001b[0;32m--> 595\u001b[0;31m                 \u001b[0minputs\u001b[0m \u001b[0;34m=\u001b[0m \u001b[0mself\u001b[0m\u001b[0;34m.\u001b[0m\u001b[0mqueue\u001b[0m\u001b[0;34m.\u001b[0m\u001b[0mget\u001b[0m\u001b[0;34m(\u001b[0m\u001b[0mblock\u001b[0m\u001b[0;34m=\u001b[0m\u001b[0;32mTrue\u001b[0m\u001b[0;34m)\u001b[0m\u001b[0;34m.\u001b[0m\u001b[0mget\u001b[0m\u001b[0;34m(\u001b[0m\u001b[0;34m)\u001b[0m\u001b[0;34m\u001b[0m\u001b[0;34m\u001b[0m\u001b[0m\n\u001b[0m\u001b[1;32m    596\u001b[0m                 \u001b[0mself\u001b[0m\u001b[0;34m.\u001b[0m\u001b[0mqueue\u001b[0m\u001b[0;34m.\u001b[0m\u001b[0mtask_done\u001b[0m\u001b[0;34m(\u001b[0m\u001b[0;34m)\u001b[0m\u001b[0;34m\u001b[0m\u001b[0;34m\u001b[0m\u001b[0m\n\u001b[1;32m    597\u001b[0m                 \u001b[0;32mif\u001b[0m \u001b[0minputs\u001b[0m \u001b[0;32mis\u001b[0m \u001b[0;32mnot\u001b[0m \u001b[0;32mNone\u001b[0m\u001b[0;34m:\u001b[0m\u001b[0;34m\u001b[0m\u001b[0;34m\u001b[0m\u001b[0m\n",
      "\u001b[0;32m/anaconda3/envs/cs25/lib/python3.6/multiprocessing/pool.py\u001b[0m in \u001b[0;36mget\u001b[0;34m(self, timeout)\u001b[0m\n\u001b[1;32m    636\u001b[0m \u001b[0;34m\u001b[0m\u001b[0m\n\u001b[1;32m    637\u001b[0m     \u001b[0;32mdef\u001b[0m \u001b[0mget\u001b[0m\u001b[0;34m(\u001b[0m\u001b[0mself\u001b[0m\u001b[0;34m,\u001b[0m \u001b[0mtimeout\u001b[0m\u001b[0;34m=\u001b[0m\u001b[0;32mNone\u001b[0m\u001b[0;34m)\u001b[0m\u001b[0;34m:\u001b[0m\u001b[0;34m\u001b[0m\u001b[0;34m\u001b[0m\u001b[0m\n\u001b[0;32m--> 638\u001b[0;31m         \u001b[0mself\u001b[0m\u001b[0;34m.\u001b[0m\u001b[0mwait\u001b[0m\u001b[0;34m(\u001b[0m\u001b[0mtimeout\u001b[0m\u001b[0;34m)\u001b[0m\u001b[0;34m\u001b[0m\u001b[0;34m\u001b[0m\u001b[0m\n\u001b[0m\u001b[1;32m    639\u001b[0m         \u001b[0;32mif\u001b[0m \u001b[0;32mnot\u001b[0m \u001b[0mself\u001b[0m\u001b[0;34m.\u001b[0m\u001b[0mready\u001b[0m\u001b[0;34m(\u001b[0m\u001b[0;34m)\u001b[0m\u001b[0;34m:\u001b[0m\u001b[0;34m\u001b[0m\u001b[0;34m\u001b[0m\u001b[0m\n\u001b[1;32m    640\u001b[0m             \u001b[0;32mraise\u001b[0m \u001b[0mTimeoutError\u001b[0m\u001b[0;34m\u001b[0m\u001b[0;34m\u001b[0m\u001b[0m\n",
      "\u001b[0;32m/anaconda3/envs/cs25/lib/python3.6/multiprocessing/pool.py\u001b[0m in \u001b[0;36mwait\u001b[0;34m(self, timeout)\u001b[0m\n\u001b[1;32m    633\u001b[0m \u001b[0;34m\u001b[0m\u001b[0m\n\u001b[1;32m    634\u001b[0m     \u001b[0;32mdef\u001b[0m \u001b[0mwait\u001b[0m\u001b[0;34m(\u001b[0m\u001b[0mself\u001b[0m\u001b[0;34m,\u001b[0m \u001b[0mtimeout\u001b[0m\u001b[0;34m=\u001b[0m\u001b[0;32mNone\u001b[0m\u001b[0;34m)\u001b[0m\u001b[0;34m:\u001b[0m\u001b[0;34m\u001b[0m\u001b[0;34m\u001b[0m\u001b[0m\n\u001b[0;32m--> 635\u001b[0;31m         \u001b[0mself\u001b[0m\u001b[0;34m.\u001b[0m\u001b[0m_event\u001b[0m\u001b[0;34m.\u001b[0m\u001b[0mwait\u001b[0m\u001b[0;34m(\u001b[0m\u001b[0mtimeout\u001b[0m\u001b[0;34m)\u001b[0m\u001b[0;34m\u001b[0m\u001b[0;34m\u001b[0m\u001b[0m\n\u001b[0m\u001b[1;32m    636\u001b[0m \u001b[0;34m\u001b[0m\u001b[0m\n\u001b[1;32m    637\u001b[0m     \u001b[0;32mdef\u001b[0m \u001b[0mget\u001b[0m\u001b[0;34m(\u001b[0m\u001b[0mself\u001b[0m\u001b[0;34m,\u001b[0m \u001b[0mtimeout\u001b[0m\u001b[0;34m=\u001b[0m\u001b[0;32mNone\u001b[0m\u001b[0;34m)\u001b[0m\u001b[0;34m:\u001b[0m\u001b[0;34m\u001b[0m\u001b[0;34m\u001b[0m\u001b[0m\n",
      "\u001b[0;32m/anaconda3/envs/cs25/lib/python3.6/threading.py\u001b[0m in \u001b[0;36mwait\u001b[0;34m(self, timeout)\u001b[0m\n\u001b[1;32m    549\u001b[0m             \u001b[0msignaled\u001b[0m \u001b[0;34m=\u001b[0m \u001b[0mself\u001b[0m\u001b[0;34m.\u001b[0m\u001b[0m_flag\u001b[0m\u001b[0;34m\u001b[0m\u001b[0;34m\u001b[0m\u001b[0m\n\u001b[1;32m    550\u001b[0m             \u001b[0;32mif\u001b[0m \u001b[0;32mnot\u001b[0m \u001b[0msignaled\u001b[0m\u001b[0;34m:\u001b[0m\u001b[0;34m\u001b[0m\u001b[0;34m\u001b[0m\u001b[0m\n\u001b[0;32m--> 551\u001b[0;31m                 \u001b[0msignaled\u001b[0m \u001b[0;34m=\u001b[0m \u001b[0mself\u001b[0m\u001b[0;34m.\u001b[0m\u001b[0m_cond\u001b[0m\u001b[0;34m.\u001b[0m\u001b[0mwait\u001b[0m\u001b[0;34m(\u001b[0m\u001b[0mtimeout\u001b[0m\u001b[0;34m)\u001b[0m\u001b[0;34m\u001b[0m\u001b[0;34m\u001b[0m\u001b[0m\n\u001b[0m\u001b[1;32m    552\u001b[0m             \u001b[0;32mreturn\u001b[0m \u001b[0msignaled\u001b[0m\u001b[0;34m\u001b[0m\u001b[0;34m\u001b[0m\u001b[0m\n\u001b[1;32m    553\u001b[0m \u001b[0;34m\u001b[0m\u001b[0m\n",
      "\u001b[0;32m/anaconda3/envs/cs25/lib/python3.6/threading.py\u001b[0m in \u001b[0;36mwait\u001b[0;34m(self, timeout)\u001b[0m\n\u001b[1;32m    293\u001b[0m         \u001b[0;32mtry\u001b[0m\u001b[0;34m:\u001b[0m    \u001b[0;31m# restore state no matter what (e.g., KeyboardInterrupt)\u001b[0m\u001b[0;34m\u001b[0m\u001b[0;34m\u001b[0m\u001b[0m\n\u001b[1;32m    294\u001b[0m             \u001b[0;32mif\u001b[0m \u001b[0mtimeout\u001b[0m \u001b[0;32mis\u001b[0m \u001b[0;32mNone\u001b[0m\u001b[0;34m:\u001b[0m\u001b[0;34m\u001b[0m\u001b[0;34m\u001b[0m\u001b[0m\n\u001b[0;32m--> 295\u001b[0;31m                 \u001b[0mwaiter\u001b[0m\u001b[0;34m.\u001b[0m\u001b[0macquire\u001b[0m\u001b[0;34m(\u001b[0m\u001b[0;34m)\u001b[0m\u001b[0;34m\u001b[0m\u001b[0;34m\u001b[0m\u001b[0m\n\u001b[0m\u001b[1;32m    296\u001b[0m                 \u001b[0mgotit\u001b[0m \u001b[0;34m=\u001b[0m \u001b[0;32mTrue\u001b[0m\u001b[0;34m\u001b[0m\u001b[0;34m\u001b[0m\u001b[0m\n\u001b[1;32m    297\u001b[0m             \u001b[0;32melse\u001b[0m\u001b[0;34m:\u001b[0m\u001b[0;34m\u001b[0m\u001b[0;34m\u001b[0m\u001b[0m\n",
      "\u001b[0;31mKeyboardInterrupt\u001b[0m: "
     ]
    }
   ],
   "source": [
    "# Train Model\n",
    "batch_size=128\n",
    "im_height = 128\n",
    "im_width = 128\n",
    "\n",
    "# Setup callbacks\n",
    "logdir=os.path.join(logs_base_dir, datetime.datetime.now().strftime(\"%Y%m%d-%H%M%S\"))\n",
    "callbacks = [\n",
    "    EarlyStopping(patience=3, verbose=1),\n",
    "    ReduceLROnPlateau(factor=0.1, patience=3, min_lr=0.00001, verbose=1),\n",
    "    ModelCheckpoint(os.path.join(logdir,'model-unet-resnet-fashion.h5'), verbose=1, save_best_only=True, save_weights_only=True),\n",
    "    TensorBoard(log_dir=logdir, histogram_freq=0, batch_size=batch_size, update_freq='batch')\n",
    "]\n",
    "\n",
    "img_dir = os.path.join(data_dir, 'train', 'train_images', 'images')\n",
    "mask_dir = os.path.join(data_dir, 'train', 'train_masks', 'masks')\n",
    "\n",
    "len_train = len(fash_train.image_info)\n",
    "len_val   = len(fash_val.image_info)\n",
    "\n",
    "# Get generators for training and validation\n",
    "train_gen  = ImgMask_sequencer(  fash_train, \n",
    "                                 batch_size=batch_size,\n",
    "                                 name=\"Train Generator\",\n",
    "                                 target_size=(im_height,im_width))\n",
    "\n",
    "val_gen   = ImgMask_sequencer(   fash_val, \n",
    "                                 batch_size=batch_size,\n",
    "                                 name=\"Val Generator\",\n",
    "                                 target_size=(im_height,im_width))\n",
    "\n",
    "# optimizer = SGD(lr=.002,momentum=.9)\n",
    "optimizer = Adam()\n",
    "model_resnet.compile(optimizer=optimizer, \n",
    "              loss=\"categorical_crossentropy\", \n",
    "              metrics=[\"accuracy\"])\n",
    "\n",
    "resnet_results = model_resnet.fit_generator(  train_gen,  \n",
    "                                epochs=10,\n",
    "                                callbacks=callbacks, \n",
    "                                validation_data=val_gen) #,\n",
    "#                                 use_multiprocessing=True, workers=4)"
   ]
  },
  {
   "cell_type": "code",
   "execution_count": null,
   "metadata": {},
   "outputs": [],
   "source": []
  },
  {
   "cell_type": "markdown",
   "metadata": {},
   "source": [
    "### Visualize Masks\n",
    "Conver one-hot encoded masks into displayable masks"
   ]
  },
  {
   "cell_type": "code",
   "execution_count": 38,
   "metadata": {},
   "outputs": [],
   "source": [
    "def get_colorMap(num_classes) -> list:\n",
    "    \"\"\"\n",
    "    Returns a list of RGB tuples of length num_classes + 1,\n",
    "    where the +1 is for the background\n",
    "    \"\"\"\n",
    "    return sns.color_palette('colorblind', num_classes+1)\n",
    "    "
   ]
  },
  {
   "cell_type": "code",
   "execution_count": 39,
   "metadata": {},
   "outputs": [],
   "source": [
    "def oneHot_to_mask(one_hot_mask:np.array) -> np.array:\n",
    "    \"\"\"\n",
    "    Accepts a stack of one_hot masks where the channel is the class.\n",
    "    Returns a single channel mask where classes are combined into a sigle layer.\n",
    "    \"\"\"\n",
    "    def oneHot_classes(one_hot_mask:np.array) -> np.array:\n",
    "        \"\"\"\n",
    "        Returns a list of the classes represented in a one_hot_mask.\n",
    "        \"\"\"\n",
    "        classes = []\n",
    "\n",
    "        for channel in range(0,one_hot_mask.shape[2]):\n",
    "            if one_hot_mask[:,:,channel].any():\n",
    "                classes.append(channel)\n",
    "\n",
    "        return classes\n",
    "    \n",
    "    classes = oneHot_classes(one_hot_mask)\n",
    "    \n",
    "    final_mask = np.zeros(shape=(one_hot_mask.shape[0:2]))\n",
    "    \n",
    "    for c in classes:\n",
    "        final_mask[one_hot_mask[:,:,c]==True] = c\n",
    "        \n",
    "    return final_mask"
   ]
  },
  {
   "cell_type": "code",
   "execution_count": 40,
   "metadata": {},
   "outputs": [],
   "source": [
    "def colorize_mask(mask, color_map) -> np.array:\n",
    "\n",
    "    classes = np.unique(mask.ravel()).astype(int)\n",
    "    \n",
    "    # set mask with background\n",
    "    final_mask = np.ones(shape=(mask.shape[0], mask.shape[1], 3))*color_map[0]\n",
    "    \n",
    "    for c in classes:\n",
    "        final_mask[mask==c] = color_map[c+1]\n",
    "    \n",
    "    return final_mask\n",
    "        "
   ]
  },
  {
   "cell_type": "code",
   "execution_count": 51,
   "metadata": {},
   "outputs": [
    {
     "name": "stdout",
     "output_type": "stream",
     "text": [
      "Creating Generator 'None':\n",
      "\tbatch size :  32\n",
      "\tlength     :  8032\n",
      "\tnum batches:  252\n",
      "\ttarget size:  (128, 128)\n"
     ]
    },
    {
     "data": {
      "text/plain": [
       "<matplotlib.image.AxesImage at 0x1c5a747860>"
      ]
     },
     "execution_count": 51,
     "metadata": {},
     "output_type": "execute_result"
    },
    {
     "data": {
      "image/png": "[encoded data removed]",
      "text/plain": [
       "<Figure size 432x288 with 1 Axes>"
      ]
     },
     "metadata": {
      "needs_background": "light"
     },
     "output_type": "display_data"
    }
   ],
   "source": [
    "# test\n",
    "g = ImgMask_sequencer(fash_train)\n",
    "rv = g.__getitem__(1)\n",
    "colorMap = get_colorMap(47)\n",
    "mask = oneHot_to_mask(rv[1][0])\n",
    "plt.imshow(mask)\n",
    "#plt.imshow(rv[0][0])"
   ]
  },
  {
   "cell_type": "code",
   "execution_count": null,
   "metadata": {},
   "outputs": [],
   "source": [
    "\n"
   ]
  },
  {
   "cell_type": "markdown",
   "metadata": {},
   "source": [
    "### Prediction\n",
    "Use model to create masks from images"
   ]
  },
  {
   "cell_type": "code",
   "execution_count": 41,
   "metadata": {},
   "outputs": [],
   "source": [
    "def predict_on_train(fash_train, img_dir, model,num_predictions:int=1, im_height=im_height,im_width=im_width):\n",
    "    \n",
    "    # get basic info \n",
    "    classes = fash_train.class_ids\n",
    "    num_classes = fash_train.num_classes\n",
    "    colorMap = get_colorMap(num_classes)\n",
    "    \n",
    "    def get_pred():\n",
    "        # get a random image from fash_train\n",
    "        num_images = len(fash_train.image_info)\n",
    "        rnd_idx = random.randint(0,num_images)\n",
    "        entry = fash_train.image_info[rnd_idx]\n",
    "        orig_shape = (entry['height'], entry['width'], 3)\n",
    "        img = fash_train.load_image(rnd_idx)\n",
    "        mask = fash_train.load_mask(rnd_idx)\n",
    "        mask = oneHot_to_mask(mask[0])\n",
    "        mask = colorize_mask(mask, colorMap)\n",
    "\n",
    "        # make a prediction on the image\n",
    "        pred_batch = cv2.resize(img, (im_height,im_width)).reshape(1,im_height,im_width,3)\n",
    "        mask_pred = np.round(model.predict(pred_batch),0).astype(int)\n",
    "        mask_pred = oneHot_to_mask(mask_pred[0])\n",
    "        mask_pred = colorize_mask(mask_pred, colorMap)\n",
    "\n",
    "        # resize the mask to match the original image\n",
    "        mask_pred = (np.resize(mask_pred, orig_shape)*255).astype(int)\n",
    "        \n",
    "        return img, mask, mask_pred\n",
    "    \n",
    "    # plot\n",
    "    fig, ax = plt.subplots(nrows=num_predictions, ncols=3, figsize=(15,5))\n",
    "    \n",
    "    for row in range(num_predictions):\n",
    "        img, mask, mask_pred = get_pred()\n",
    "          \n",
    "        i=0\n",
    "        ax[row][i].set_title(\"Original Image\")\n",
    "        ax[row][i].imshow(img)\n",
    "\n",
    "        i=1\n",
    "        ax[row][i].set_title(\"Ground Truth Mask\")\n",
    "        ax[row][i].imshow(mask)\n",
    "\n",
    "        i=2\n",
    "        ax[row][i].set_title(\"Predicted Mask\")\n",
    "        ax[row][i].imshow(mask_pred)\n",
    "    \n",
    "    return mask_pred"
   ]
  },
  {
   "cell_type": "code",
   "execution_count": 42,
   "metadata": {},
   "outputs": [
    {
     "data": {
      "image/png": "[encoded data removed]",
      "text/plain": [
       "<Figure size 1080x360 with 9 Axes>"
      ]
     },
     "metadata": {
      "needs_background": "light"
     },
     "output_type": "display_data"
    }
   ],
   "source": [
    "pred = predict_on_train(fash_train, img_dir, model, num_predictions=3)"
   ]
  },
  {
   "cell_type": "code",
   "execution_count": null,
   "metadata": {},
   "outputs": [],
   "source": []
  }
 ],
 "metadata": {
  "kernelspec": {
   "display_name": "Python 3",
   "language": "python",
   "name": "python3"
  },
  "language_info": {
   "codemirror_mode": {
    "name": "ipython",
    "version": 3
   },
   "file_extension": ".py",
   "mimetype": "text/x-python",
   "name": "python",
   "nbconvert_exporter": "python",
   "pygments_lexer": "ipython3",
   "version": "3.6.8"
  }
 },
 "nbformat": 4,
 "nbformat_minor": 2
}
