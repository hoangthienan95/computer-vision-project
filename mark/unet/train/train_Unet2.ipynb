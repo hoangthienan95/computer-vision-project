{
 "cells": [
  {
   "cell_type": "markdown",
   "metadata": {},
   "source": [
    "# UNET - Train on Fashion Dataset\n",
    "\n",
    "\n",
    "This notebook shows how to train UNET on the Fashion dataset.\n",
    "\n",
    "### The Dataset Object\n",
    "This notebook will implement a Dataset object from the mcrnn implementation.  The dataset object holds a listing of all relevant data needed for training images and respective masks.  The object holds file references to the images and encoded masks for semantic segmentation.\n",
    "\n",
    "The same dataset object used for training the MRCNN implementation is used in this workbook.  This helps to compare numerous implementation results by ensureing the same training data is used.\n",
    "\n",
    "### UNET\n",
    "UNET is a model that will produce a semantic segmentation based on an input image.  UNET acts as an encoder by using CNN's and Max Pooling to create an encoder and uses Upscaling and CNN's to decode.  UNET will output a sementaic segmentation of the same dimension as the input.  Each channel of the output is a binary mask for a segmentation class.  UNET's key feature is that the final output from each layer is concatenated with the corresponding layer on the decoding side.  The key feature allows the decoder to better represent more complex shape in the segmentation.  \n",
    "\n",
    "### Limitations\n",
    "#### Semantic Segmentation Only\n",
    "UNET in its basic form will only output a semantic segmenation.  No boxing or instance identification is included.  This will increase the speed of training, but limits it use.\n",
    "\n",
    "#### Fixed Dimensions\n",
    "A UNET model is compiled with a fixed input dimension which drives a fixed output dimension.  Any training images or inferrence images will need to have the specificed input dimension.  MRCNN is more flexible and allows an input image of any size.\n"
   ]
  },
  {
   "cell_type": "markdown",
   "metadata": {},
   "source": [
    "<html><head>\n",
    "\n",
    "\n",
    "<!-- Load require.js. Delete this if your page already loads require.js -->\n",
    "<script src=\"https://cdnjs.cloudflare.com/ajax/libs/require.js/2.3.4/require.min.js\" integrity=\"sha256-Ae2Vz/4ePdIu6ZyI/5ZGsYnb+m0JlOmKPjt6XZ9JJkA=\" crossorigin=\"anonymous\"></script>\n",
    "<script src=\"https://unpkg.com/@jupyter-widgets/html-manager@*/dist/embed-amd.js\" crossorigin=\"anonymous\"></script>\n",
    "<script type=\"application/vnd.jupyter.widget-state+json\">\n",
    "{\n",
    "    \"version_major\": 2,\n",
    "    \"version_minor\": 0,\n",
    "    \"state\": {}\n",
    "}\n",
    "</script>\n",
    "</head>\n",
    "<body>\n",
    "\n",
    "\n",
    "</body>\n",
    "</html>\n",
    "\n"
   ]
  },
  {
   "cell_type": "markdown",
   "metadata": {},
   "source": [
    "## Unet Architecture\n",
    "![title](Unet_architecture.png)"
   ]
  },
  {
   "cell_type": "markdown",
   "metadata": {},
   "source": [
    "### Setup local variables"
   ]
  },
  {
   "cell_type": "code",
   "execution_count": 13,
   "metadata": {},
   "outputs": [
    {
     "data": {
      "text/plain": [
       "(True, True, True, True)"
      ]
     },
     "execution_count": 13,
     "metadata": {},
     "output_type": "execute_result"
    }
   ],
   "source": [
    "import os, sys\n",
    "\n",
    "project_root = \"/Users/markmcdonald/Library/Mobile Documents/com~apple~CloudDocs/Harvard/CSCI_E25/Project/computer-vision-project\"\n",
    "data_dir     = '../../../data/FashionDataSet/'\n",
    "train_dir    = os.path.join(data_dir, 'train')\n",
    "images_file  = os.path.join(data_dir, 'train.csv' )\n",
    "cat_file     = os.path.join(data_dir, 'label_descriptions.json' )\n",
    "sys.path.append(project_root) # to capture FashtionDataset class\n",
    "os.path.isdir(data_dir), os.path.isdir(train_dir), os.path.isfile(images_file), os.path.isfile(images_file)"
   ]
  },
  {
   "cell_type": "markdown",
   "metadata": {},
   "source": [
    "## Set Backend For GPU Support\n",
    "This can be commented out if an Nvidia GPU is being used or if processing is to be done using local CPUs"
   ]
  },
  {
   "cell_type": "code",
   "execution_count": 14,
   "metadata": {},
   "outputs": [],
   "source": [
    "import os\n",
    "# fix libiomp5.dylib error for mac\n",
    "os.environ['KMP_DUPLICATE_LIB_OK'] = 'True'\n",
    "\n",
    "# OPTIONAL SETTING\n",
    "# Here we override the keras backend env variable to use plaidml\n",
    "# plaidml can make use of AMD GPUs \n",
    "# This assignment needs to be added before loading keras libraries\n",
    "\n",
    "\n",
    "# import plaidml.keras\n",
    "# plaidml.keras.install_backend()\n",
    "os.environ[\"KERAS_BACKEND\"] = \"plaidml.keras.backend\"\n",
    "\n",
    "# to install plaidML, activate appropriate environment and then:\n",
    "#   pip install -U plaidml-keras\n",
    "#   plaidml-setup\n"
   ]
  },
  {
   "cell_type": "markdown",
   "metadata": {},
   "source": [
    "### Load Modules"
   ]
  },
  {
   "cell_type": "code",
   "execution_count": 15,
   "metadata": {},
   "outputs": [],
   "source": [
    "import warnings\n",
    "warnings.filterwarnings('ignore')\n",
    "\n",
    "import datetime, os\n",
    "import sys\n",
    "import random\n",
    "import math\n",
    "import re\n",
    "import time\n",
    "import numpy as np\n",
    "import cv2\n",
    "import matplotlib\n",
    "import matplotlib.pyplot as plt\n",
    "import matplotlib.patches as patches\n",
    "import matplotlib.lines as lines\n",
    "from matplotlib.patches import Polygon\n",
    "import seaborn as sns\n",
    "\n",
    "import tensorflow as tf\n",
    "tf.logging.set_verbosity(tf.logging.ERROR)\n",
    "\n",
    "from tqdm import tqdm_notebook as tqdm\n",
    "import json\n",
    "import pandas as pd\n",
    "import skimage\n",
    "import random\n",
    "from sklearn.model_selection import train_test_split\n",
    "import pickle\n",
    "from skimage.transform import resize\n",
    "\n",
    "import FashionUtils.FashionDataset as FashionDataset#import FashionDataset, create_datasets, load_dataset, save_dataset\n",
    "\n",
    "# Root directory of the project\n",
    "ROOT_DIR = os.path.abspath(\"../../\")\n",
    "\n",
    "# Import Mask RCNN\n",
    "sys.path.append(ROOT_DIR)  # To find local version of the library\n",
    "\n",
    "# from mrcnn.config import Config\n",
    "from mrcnn import utils\n",
    "# import mrcnn.model as modellib\n",
    "from mrcnn import visualize\n",
    "# from mrcnn.model import log\n",
    "from mrcnn.visualize import display_images\n",
    "\n",
    "%matplotlib inline "
   ]
  },
  {
   "cell_type": "code",
   "execution_count": 16,
   "metadata": {},
   "outputs": [
    {
     "name": "stdout",
     "output_type": "stream",
     "text": [
      "Loading PlaidML libraries for Keras.\n"
     ]
    }
   ],
   "source": [
    "# Keras imports\n",
    "if os.environ.get(\"KERAS_BACKEND\") == \"plaidml.keras.backend\":\n",
    "    print(\"Loading PlaidML libraries for Keras.\")\n",
    "    import keras\n",
    "    \n",
    "    from keras.models import Model, load_model, model_from_json\n",
    "    from keras.layers import Input, BatchNormalization, Activation, Dense, Dropout\n",
    "    from keras.layers.core import Lambda, RepeatVector, Reshape\n",
    "    from keras.layers.convolutional import Conv2D, Conv2DTranspose\n",
    "    from keras.layers.pooling import MaxPooling2D, GlobalMaxPool2D\n",
    "    from keras.layers.merge import concatenate, add\n",
    "    from keras.callbacks import EarlyStopping, ModelCheckpoint, ReduceLROnPlateau, TensorBoard\n",
    "    from keras.optimizers import Adam, SGD\n",
    "    from keras.preprocessing.image import ImageDataGenerator, array_to_img, img_to_array, load_img\n",
    "    from keras.utils import to_categorical\n",
    "    from keras.layers import UpSampling2D\n",
    "    from keras.preprocessing import image\n",
    "    from keras.applications.resnet_v2 import ResNet152V2\n",
    "\n",
    "else:\n",
    "    print(\"Loading Tensorflow libraries for Keras.\")\n",
    "    import tensorflow as tf\n",
    "\n",
    "    from tensorflow.python.keras.models import Model, load_model, model_from_json\n",
    "    from tensorflow.python.keras.layers import Input, BatchNormalization, Activation, Dense, Dropout\n",
    "    from tensorflow.python.keras.layers.core import Lambda, RepeatVector, Reshape\n",
    "    from tensorflow.python.keras.layers.convolutional import Conv2D, Conv2DTranspose\n",
    "    from tensorflow.python.keras.layers.pooling import MaxPooling2D, GlobalMaxPool2D\n",
    "    from tensorflow.python.keras.layers.merge import concatenate, add\n",
    "    from tensorflow.python.keras.callbacks import EarlyStopping, ModelCheckpoint, ReduceLROnPlateau\n",
    "    from tensorflow.python.keras.optimizers import Adam, SGD\n",
    "    from tensorflow.python.keras.preprocessing.image import ImageDataGenerator, array_to_img, img_to_array, load_img\n",
    "    from tensorflow.python.keras.utils import to_categorical\n",
    "    from tensorflow.python.keras.layers import UpSampling2D\n",
    "    from tensorflow.python.keras.preprocessing import image\n",
    "    from tensorflow.python.keras.applications.resnet_v2 import ResNet152V2\n",
    "    "
   ]
  },
  {
   "cell_type": "markdown",
   "metadata": {},
   "source": [
    "### Load FasionDataset Objects\n",
    "If you have saved the datasets, you can load them, it resplit and build them again."
   ]
  },
  {
   "cell_type": "code",
   "execution_count": 17,
   "metadata": {},
   "outputs": [],
   "source": [
    "# NOTE: There are 300k line images in the full training list\n",
    "# fash_train, fash_val = FashionDataset.create_datasets( images_file=images_file, \n",
    "#                                         cat_file=cat_file,\n",
    "#                                         images_dir=train_dir,\n",
    "#                                         split=0.9, \n",
    "#                                         limit=150000)\n",
    "\n",
    "# FashionDataset.save_dataset(fash_train, os.path.join(data_dir, 'fashion_train_dataset_75k.pkl'))\n",
    "# FashionDataset.save_dataset(fash_val,   os.path.join(data_dir, 'fashion_val_dataset_75k.pkl'))"
   ]
  },
  {
   "cell_type": "code",
   "execution_count": 18,
   "metadata": {},
   "outputs": [
    {
     "name": "stdout",
     "output_type": "stream",
     "text": [
      "../../../data/FashionDataSet/fashion_train_dataset_75k.pkl\n",
      "../../../data/FashionDataSet/fashion_val_dataset_75k.pkl\n"
     ]
    }
   ],
   "source": [
    "fash_train = FashionDataset.load_dataset(os.path.join(data_dir, 'fashion_train_dataset_75k.pkl'))\n",
    "fash_val   = FashionDataset.load_dataset(os.path.join(data_dir, 'fashion_val_dataset_75k.pkl'))"
   ]
  },
  {
   "cell_type": "code",
   "execution_count": 19,
   "metadata": {},
   "outputs": [],
   "source": [
    "im_height = 128\n",
    "im_width = 128\n",
    "im_channels = 3\n",
    "im_shape = (im_height, im_width, im_channels)\n",
    "n_classes = len(fash_train.class_ids)"
   ]
  },
  {
   "cell_type": "code",
   "execution_count": 20,
   "metadata": {},
   "outputs": [],
   "source": [
    "# U-Net architecture\n",
    "def UNet(input_img):\n",
    "\n",
    "    # Contracting Path\n",
    "    enc1 = Conv2D(64, (3,3), activation='relu', padding='same', kernel_initializer = 'he_normal')(input_img)\n",
    "    enc1 = Conv2D(64, (3,3), activation='relu', padding='same', kernel_initializer = 'he_normal')(enc1)\n",
    "    \n",
    "    enc2 = MaxPooling2D(pool_size=(2,2))(enc1)\n",
    "    enc2 = Conv2D(128, (3,3), activation='relu', padding='same', kernel_initializer = 'he_normal')(enc2)\n",
    "    enc2 = Conv2D(128, (3,3), activation='relu', padding='same', kernel_initializer = 'he_normal')(enc2)\n",
    "    \n",
    "    enc3 = MaxPooling2D(pool_size=(2,2))(enc2)\n",
    "    enc3 = Conv2D(256, (3,3), activation='relu', padding='same', kernel_initializer = 'he_normal')(enc3)\n",
    "    enc3 = Conv2D(256, (3,3), activation='relu', padding='same', kernel_initializer = 'he_normal')(enc3)\n",
    "    \n",
    "    enc4 = MaxPooling2D(pool_size=(2,2))(enc3)\n",
    "    enc4 = Conv2D(512, (3,3), activation='relu', padding='same', kernel_initializer = 'he_normal')(enc4)\n",
    "    enc4 = Conv2D(512, (3,3), activation='relu', padding='same', kernel_initializer = 'he_normal')(enc4)\n",
    "    \n",
    "    encoder = MaxPooling2D(pool_size=(2,2))(enc4)\n",
    "    encoder = Conv2D(1024, (3,3), activation='relu', padding='same', kernel_initializer = 'he_normal')(encoder)\n",
    "    encoder = Conv2D(1024, (3,3), activation='relu', padding='same', kernel_initializer = 'he_normal')(encoder)\n",
    "    \n",
    "    # Expansive Path\n",
    "    dec4 = UpSampling2D((2,2))(encoder)\n",
    "    dec4 = concatenate([dec4,enc4])\n",
    "    dec4 = Conv2D(512, (3,3), activation='relu', padding='same', kernel_initializer = 'he_normal')(dec4)\n",
    "    dec4 = Conv2D(512, (3,3), activation='relu', padding='same', kernel_initializer = 'he_normal')(dec4)\n",
    "    \n",
    "    dec3 = UpSampling2D((2,2))(dec4)\n",
    "    dec3 = concatenate([dec3,enc3])\n",
    "    dec3 = Conv2D(256, (3,3), activation='relu', padding='same', kernel_initializer = 'he_normal')(dec3)\n",
    "    dec3 = Conv2D(256, (3,3), activation='relu', padding='same', kernel_initializer = 'he_normal')(dec3)\n",
    "    \n",
    "    dec2 = UpSampling2D((2,2))(dec3)\n",
    "    dec2 = concatenate([dec2,enc2])\n",
    "    dec2 = Conv2D(128, (3,3), activation='relu', padding='same', kernel_initializer = 'he_normal')(dec2)\n",
    "    dec2 = Conv2D(128, (3,3), activation='relu', padding='same', kernel_initializer = 'he_normal')(dec2)\n",
    "    \n",
    "    dec1 = UpSampling2D((2,2))(dec2)\n",
    "    dec1 = concatenate([dec1,enc1])\n",
    "    dec1 = Conv2D(64, (3,3), activation='relu', padding='same', kernel_initializer = 'he_normal')(dec1)\n",
    "    \n",
    "    # c_exp = final feature maps from expansive path\n",
    "    c_exp = Conv2D(64, (3,3), activation='relu', padding='same', kernel_initializer = 'he_normal')(dec1)\n",
    "    \n",
    "    # output layer must change\n",
    "    outputs = Conv2D(n_classes, (1, 1), activation='softmax')(c_exp) # sigmoid\n",
    "    print(\"outputs shape: \", outputs.shape)\n",
    "    \n",
    "    model = Model(inputs=[input_img], outputs=[outputs])\n",
    "    return model"
   ]
  },
  {
   "cell_type": "markdown",
   "metadata": {},
   "source": [
    "### Generators for Images and Masks"
   ]
  },
  {
   "cell_type": "code",
   "execution_count": 21,
   "metadata": {},
   "outputs": [],
   "source": [
    "class ImgMask_sequencer(keras.utils.Sequence):\n",
    "    \"\"\"\n",
    "    Create batch generator based on Dataset object.\n",
    "    Returns images and masks resize to target_size provided.\n",
    "    \"\"\"\n",
    "\n",
    "    def __init__(self, dataset, \n",
    "                 batch_size:int=32, \n",
    "                 name:str=None, \n",
    "                 target_shape:tuple=(512,512,3),\n",
    "                 color:bool=True):\n",
    "\n",
    "        self.dataset      = dataset\n",
    "        self.batch_size   = batch_size\n",
    "        self.length       = len(self.dataset)\n",
    "        self.num_batches  = int(self.length / self.batch_size)+1\n",
    "        self.name         = name\n",
    "        self.target_shape = target_shape\n",
    "        self.classes      = self.dataset.source_class_ids['imaterialist']\n",
    "        self.num_classes  = len(self.classes)\n",
    "        self.color        = color\n",
    "\n",
    "        print(\"Creating Generator '{}':\".format(self.name))\n",
    "        print(\"\\tbatch size  : \", self.batch_size)\n",
    "        print(\"\\tlength      : \", self.length)\n",
    "        print(\"\\tnum batches : \", self.num_batches)\n",
    "        print(\"\\ttarget shape: \", self.target_shape)\n",
    "        print(\"\\tcolor       : \", self.color)\n",
    "        \n",
    "    def __len__(self):\n",
    "        return self.num_batches\n",
    "    \n",
    "    def __getitem__(self, idx):\n",
    "\n",
    "        img_ids    = self.dataset.image_ids\n",
    "       \n",
    "        # get batch_num number of entries from dataset\n",
    "        images, masks = [], []\n",
    "        start = self.batch_size * idx\n",
    "        end   = self.batch_size * (idx+1)\n",
    "        \n",
    "        if end>self.length-1:\n",
    "            end = self.length-1\n",
    "            print(\"Curtailed: length:{}/end{}\".format(self.length, end))\n",
    "\n",
    "        for i in img_ids[start:end]:\n",
    "            #load image and mask\n",
    "            img  = self.dataset.load_image(i)\n",
    "            mask, mask_classes = self.dataset.load_mask(i)\n",
    "            \n",
    "            # convert color\n",
    "            if not self.color:\n",
    "                img = np.mean(img, axis=2)\n",
    "                img = np.stack([img for i in range(3)], axis=2) # make 3-channel bw image\n",
    "            \n",
    "            if self.target_shape != None:\n",
    "                img, window, scale, padding, crop  = utils.resize_image(img, max_dim=self.target_shape[0], mode='square')\n",
    "                mask = utils.resize_mask(mask, scale, padding, crop) # resize to match image - input shape\n",
    "            else:\n",
    "                self.target_shape = img.shape\n",
    "\n",
    "            # create stacked mask\n",
    "            stacked_mask = np.zeros(shape=(self.target_shape[0], self.target_shape[1], self.num_classes))\n",
    "            try:\n",
    "                stacked_mask[:,:,mask_classes] = mask\n",
    "            except Exception as e:\n",
    "                print(e)\n",
    "                print(\"item: {}\".format(i))\n",
    "                continue\n",
    "            \n",
    "            # if there are two instances of same class - merge layers   \n",
    "            cl_unique, cl_counts = np.unique(mask_classes, return_counts=True)\n",
    "            dup_classes = cl_unique[cl_counts>1]\n",
    "            if len(dup_classes) > 0:\n",
    "                for d in dup_classes:\n",
    "                    locations = np.where(mask_classes==d)[0]\n",
    "                    stacked_mask[:,:,d] = (np.sum(mask[:,:,locations],axis=2))>0\n",
    "\n",
    "            images.append(img/255)\n",
    "            masks.append(stacked_mask)\n",
    "\n",
    "        return np.stack(images, axis=0), np.stack(masks, axis=0)"
   ]
  },
  {
   "cell_type": "markdown",
   "metadata": {},
   "source": [
    "## Test Generator"
   ]
  },
  {
   "cell_type": "code",
   "execution_count": 22,
   "metadata": {},
   "outputs": [],
   "source": [
    "def get_unstacked_mask(stacked_mask, threshold:float=0.5):\n",
    "    \"\"\"\n",
    "    Return a mask with as many channels as there are classes.\n",
    "    Also returns the class id's for the channels returned.\n",
    "    \"\"\"\n",
    "    \n",
    "    def get_classids_from_stacked_mask(stacked_mask):\n",
    "        # get class id's from stacked mask\n",
    "        class_ids = []\n",
    "        for c in range(stacked_mask.shape[2]):\n",
    "            if np.max(stacked_mask[:,:,c])>threshold:\n",
    "                class_ids.append(c)\n",
    "\n",
    "        return np.array(class_ids).astype(int)\n",
    "    \n",
    "    class_ids = get_classids_from_stacked_mask(stacked_mask)\n",
    "    unstacked_mask = np.ones(shape=(stacked_mask.shape[0], stacked_mask.shape[1], len(class_ids)))\n",
    "    \n",
    "    unstacked_mask = stacked_mask[:,:,class_ids]\n",
    "    \n",
    "    return unstacked_mask, class_ids\n",
    "    "
   ]
  },
  {
   "cell_type": "code",
   "execution_count": 31,
   "metadata": {},
   "outputs": [
    {
     "name": "stdout",
     "output_type": "stream",
     "text": [
      "Creating Generator 'Validation Generator':\n",
      "\tbatch size  :  1\n",
      "\tlength      :  4113\n",
      "\tnum batches :  4114\n",
      "\ttarget shape:  (128, 128)\n",
      "\tcolor       :  True\n"
     ]
    },
    {
     "data": {
      "image/png": "[encoded data removed]",
      "text/plain": [
       "<Figure size 1440x1440 with 3 Axes>"
      ]
     },
     "metadata": {
      "needs_background": "light"
     },
     "output_type": "display_data"
    }
   ],
   "source": [
    "batch_size = 1\n",
    "train_gen  = ImgMask_sequencer(  fash_val, \n",
    "                                 batch_size=batch_size,\n",
    "                                 name=\"Validation Generator\",\n",
    "                                 target_shape=im_shape[0:2],\n",
    "                                 color=True)\n",
    "\n",
    "fix, ax = plt.subplots(ncols=3, figsize=(20,20), sharex=True, sharey=True)\n",
    "\n",
    "test_image_batch, test_mask_batch = train_gen.__getitem__(55)\n",
    "test_image = test_image_batch[0]\n",
    "test_mask  = test_mask_batch[0]\n",
    "\n",
    "mask, class_ids = get_unstacked_mask(test_mask)\n",
    "bbox = utils.extract_bboxes(mask)\n",
    "\n",
    "\n",
    "ax[0].imshow(test_image)\n",
    "ax[0].axis('off')\n",
    "ax[0].set_title(\"Original Image\")\n",
    "\n",
    "visualize.display_instances(test_image*255, \n",
    "                            bbox, \n",
    "                            mask, \n",
    "                            class_ids, \n",
    "                            fash_val.class_names, \n",
    "                            figsize=(10,10),\n",
    "                            show_bbox=False, show_mask=True,\n",
    "                            ax=ax[1], title=\"Ground Truth Mask\")\n",
    "\n",
    "visualize.display_instances(test_image*255, \n",
    "                            bbox, \n",
    "                            mask, \n",
    "                            class_ids, \n",
    "                            fash_val.class_names, \n",
    "                            figsize=(10,10),\n",
    "                            show_bbox=True, show_mask=True,\n",
    "                            ax=ax[2], title=\"Truth with Class Boxes\")\n",
    "\n"
   ]
  },
  {
   "cell_type": "markdown",
   "metadata": {},
   "source": [
    "Test iterating through full dataset to emulate epoch"
   ]
  },
  {
   "cell_type": "code",
   "execution_count": 33,
   "metadata": {},
   "outputs": [
    {
     "name": "stdout",
     "output_type": "stream",
     "text": [
      "Creating Generator 'Validation Generator':\n",
      "\tbatch size  :  128\n",
      "\tlength      :  4113\n",
      "\tnum batches :  33\n",
      "\ttarget shape:  (128, 128)\n",
      "\tcolor       :  True\n"
     ]
    },
    {
     "data": {
      "application/vnd.jupyter.widget-view+json": {
       "model_id": "312b08ad776343ac909e1bfb10f6b4c5",
       "version_major": 2,
       "version_minor": 0
      },
      "text/plain": [
       "HBox(children=(IntProgress(value=0, max=33), HTML(value='')))"
      ]
     },
     "metadata": {},
     "output_type": "display_data"
    },
    {
     "name": "stdout",
     "output_type": "stream",
     "text": [
      "Curtailed: length:4113/end4112\n",
      "\n"
     ]
    }
   ],
   "source": [
    "batch_size = 128\n",
    "val_gen  = ImgMask_sequencer( fash_val, \n",
    "                              batch_size=batch_size,\n",
    "                              name=\"Validation Generator\",\n",
    "                              target_shape=im_shape[0:2],\n",
    "                              color=True)\n",
    "\n",
    "batches = len(val_gen)\n",
    "for batch in tqdm(range(batches)):\n",
    "    test_image_batch, test_mask_batch = val_gen.__getitem__(batch)"
   ]
  },
  {
   "cell_type": "markdown",
   "metadata": {},
   "source": [
    "### Defin UNET model Structure"
   ]
  },
  {
   "cell_type": "code",
   "execution_count": 29,
   "metadata": {},
   "outputs": [
    {
     "name": "stderr",
     "output_type": "stream",
     "text": [
      "INFO:plaidml:Opening device \"opencl_amd_radeon_rx_vega_64_compute_engine.0\"\n"
     ]
    },
    {
     "name": "stdout",
     "output_type": "stream",
     "text": [
      "outputs shape:  Shape(dtype=<DType.FLOAT32: 50>, dims=(<tile.Value Operation UINT64()>, 128, 128, 47))\n",
      "__________________________________________________________________________________________________\n",
      "Layer (type)                    Output Shape         Param #     Connected to                     \n",
      "==================================================================================================\n",
      "img (InputLayer)                (None, 128, 128, 3)  0                                            \n",
      "__________________________________________________________________________________________________\n",
      "conv2d_1 (Conv2D)               (None, 128, 128, 64) 1792        img[0][0]                        \n",
      "__________________________________________________________________________________________________\n",
      "conv2d_2 (Conv2D)               (None, 128, 128, 64) 36928       conv2d_1[0][0]                   \n",
      "__________________________________________________________________________________________________\n",
      "max_pooling2d_1 (MaxPooling2D)  (None, 64, 64, 64)   0           conv2d_2[0][0]                   \n",
      "__________________________________________________________________________________________________\n",
      "conv2d_3 (Conv2D)               (None, 64, 64, 128)  73856       max_pooling2d_1[0][0]            \n",
      "__________________________________________________________________________________________________\n",
      "conv2d_4 (Conv2D)               (None, 64, 64, 128)  147584      conv2d_3[0][0]                   \n",
      "__________________________________________________________________________________________________\n",
      "max_pooling2d_2 (MaxPooling2D)  (None, 32, 32, 128)  0           conv2d_4[0][0]                   \n",
      "__________________________________________________________________________________________________\n",
      "conv2d_5 (Conv2D)               (None, 32, 32, 256)  295168      max_pooling2d_2[0][0]            \n",
      "__________________________________________________________________________________________________\n",
      "conv2d_6 (Conv2D)               (None, 32, 32, 256)  590080      conv2d_5[0][0]                   \n",
      "__________________________________________________________________________________________________\n",
      "max_pooling2d_3 (MaxPooling2D)  (None, 16, 16, 256)  0           conv2d_6[0][0]                   \n",
      "__________________________________________________________________________________________________\n",
      "conv2d_7 (Conv2D)               (None, 16, 16, 512)  1180160     max_pooling2d_3[0][0]            \n",
      "__________________________________________________________________________________________________\n",
      "conv2d_8 (Conv2D)               (None, 16, 16, 512)  2359808     conv2d_7[0][0]                   \n",
      "__________________________________________________________________________________________________\n",
      "max_pooling2d_4 (MaxPooling2D)  (None, 8, 8, 512)    0           conv2d_8[0][0]                   \n",
      "__________________________________________________________________________________________________\n",
      "conv2d_9 (Conv2D)               (None, 8, 8, 1024)   4719616     max_pooling2d_4[0][0]            \n",
      "__________________________________________________________________________________________________\n",
      "conv2d_10 (Conv2D)              (None, 8, 8, 1024)   9438208     conv2d_9[0][0]                   \n",
      "__________________________________________________________________________________________________\n",
      "up_sampling2d_1 (UpSampling2D)  (None, 16, 16, 1024) 0           conv2d_10[0][0]                  \n",
      "__________________________________________________________________________________________________\n",
      "concatenate_1 (Concatenate)     (None, 16, 16, 1536) 0           up_sampling2d_1[0][0]            \n",
      "                                                                 conv2d_8[0][0]                   \n",
      "__________________________________________________________________________________________________\n",
      "conv2d_11 (Conv2D)              (None, 16, 16, 512)  7078400     concatenate_1[0][0]              \n",
      "__________________________________________________________________________________________________\n",
      "conv2d_12 (Conv2D)              (None, 16, 16, 512)  2359808     conv2d_11[0][0]                  \n",
      "__________________________________________________________________________________________________\n",
      "up_sampling2d_2 (UpSampling2D)  (None, 32, 32, 512)  0           conv2d_12[0][0]                  \n",
      "__________________________________________________________________________________________________\n",
      "concatenate_2 (Concatenate)     (None, 32, 32, 768)  0           up_sampling2d_2[0][0]            \n",
      "                                                                 conv2d_6[0][0]                   \n",
      "__________________________________________________________________________________________________\n",
      "conv2d_13 (Conv2D)              (None, 32, 32, 256)  1769728     concatenate_2[0][0]              \n",
      "__________________________________________________________________________________________________\n",
      "conv2d_14 (Conv2D)              (None, 32, 32, 256)  590080      conv2d_13[0][0]                  \n",
      "__________________________________________________________________________________________________\n",
      "up_sampling2d_3 (UpSampling2D)  (None, 64, 64, 256)  0           conv2d_14[0][0]                  \n",
      "__________________________________________________________________________________________________\n",
      "concatenate_3 (Concatenate)     (None, 64, 64, 384)  0           up_sampling2d_3[0][0]            \n",
      "                                                                 conv2d_4[0][0]                   \n",
      "__________________________________________________________________________________________________\n",
      "conv2d_15 (Conv2D)              (None, 64, 64, 128)  442496      concatenate_3[0][0]              \n",
      "__________________________________________________________________________________________________\n",
      "conv2d_16 (Conv2D)              (None, 64, 64, 128)  147584      conv2d_15[0][0]                  \n",
      "__________________________________________________________________________________________________\n",
      "up_sampling2d_4 (UpSampling2D)  (None, 128, 128, 128 0           conv2d_16[0][0]                  \n",
      "__________________________________________________________________________________________________\n",
      "concatenate_4 (Concatenate)     (None, 128, 128, 192 0           up_sampling2d_4[0][0]            \n",
      "                                                                 conv2d_2[0][0]                   \n",
      "__________________________________________________________________________________________________\n",
      "conv2d_17 (Conv2D)              (None, 128, 128, 64) 110656      concatenate_4[0][0]              \n",
      "__________________________________________________________________________________________________\n",
      "conv2d_18 (Conv2D)              (None, 128, 128, 64) 36928       conv2d_17[0][0]                  \n",
      "__________________________________________________________________________________________________\n",
      "conv2d_19 (Conv2D)              (None, 128, 128, 47) 3055        conv2d_18[0][0]                  \n",
      "==================================================================================================\n",
      "Total params: 31,381,935\n",
      "Trainable params: 31,381,935\n",
      "Non-trainable params: 0\n",
      "__________________________________________________________________________________________________\n"
     ]
    }
   ],
   "source": [
    "model = UNet(Input(im_shape, name='img'))\n",
    "model.summary()"
   ]
  },
  {
   "cell_type": "markdown",
   "metadata": {},
   "source": [
    "### Train Model"
   ]
  },
  {
   "cell_type": "code",
   "execution_count": 30,
   "metadata": {},
   "outputs": [],
   "source": [
    "def train_unet(  model,\n",
    "                 train_data,\n",
    "                 val_data,\n",
    "                 epochs=10,\n",
    "                 target_shape:tuple=(512,512,3), \n",
    "                 batch_size:int=128,\n",
    "                 logs_base_dir:str=\"./logs\",\n",
    "                 color:bool=True\n",
    "                 ):\n",
    "\n",
    "    # Setup callbacks\n",
    "    logdir=os.path.join(logs_base_dir, datetime.datetime.now().strftime(\"%Y%m%d-%H%M%S\"))\n",
    "    callbacks = [\n",
    "        EarlyStopping(patience=2, verbose=1),\n",
    "        ReduceLROnPlateau(factor=0.1, patience=3, min_lr=0.00001, verbose=1),\n",
    "        ModelCheckpoint(os.path.join(logdir,'model-unet-fashion.h5'), verbose=1, save_best_only=True, save_weights_only=True),\n",
    "        TensorBoard(log_dir=logdir, histogram_freq=0, batch_size=batch_size, update_freq='batch')\n",
    "    ]\n",
    "\n",
    "    # Get generators for training and validation\n",
    "    train_gen  = ImgMask_sequencer(train_data, \n",
    "                                   batch_size=batch_size,\n",
    "                                   name=\"Train Generator\",\n",
    "                                   target_shape=target_shape[0:2],\n",
    "                                   color=color)\n",
    "\n",
    "    val_gen    = ImgMask_sequencer(val_data, \n",
    "                                   batch_size=batch_size,\n",
    "                                   name=\"Val Generator\",\n",
    "                                   target_shape=target_shape[0:2],\n",
    "                                   color=color)\n",
    "\n",
    "#     optimizer = SGD(lr=.002,momentum=.9)\n",
    "    optimizer = Adam()\n",
    "    model.compile(optimizer=optimizer, \n",
    "                  loss=\"categorical_crossentropy\", # binary_crossentropy\n",
    "                  metrics=[\"accuracy\"])\n",
    "\n",
    "    results = model.fit_generator(  train_gen,  \n",
    "                                    epochs=epochs,\n",
    "                                    callbacks=callbacks, \n",
    "                                    validation_data=val_gen)\n",
    "    \n",
    "    return results"
   ]
  },
  {
   "cell_type": "code",
   "execution_count": 31,
   "metadata": {},
   "outputs": [
    {
     "data": {
      "text/plain": [
       "True"
      ]
     },
     "execution_count": 31,
     "metadata": {},
     "output_type": "execute_result"
    }
   ],
   "source": [
    "logs_base_dir = os.path.join(data_dir, 'logs')\n",
    "os.path.isdir(logs_base_dir)"
   ]
  },
  {
   "cell_type": "code",
   "execution_count": 16,
   "metadata": {
    "scrolled": false
   },
   "outputs": [
    {
     "data": {
      "text/plain": [
       "Reusing TensorBoard on port 6006 (pid 930), started 1:14:22 ago. (Use '!kill 930' to kill it.)"
      ]
     },
     "metadata": {},
     "output_type": "display_data"
    },
    {
     "data": {
      "text/html": [
       "\n",
       "      <iframe id=\"tensorboard-frame-55a30c407e03ee37\" width=\"100%\" height=\"800\" frameborder=\"0\">\n",
       "      </iframe>\n",
       "      <script>\n",
       "        (function() {\n",
       "          const frame = document.getElementById(\"tensorboard-frame-55a30c407e03ee37\");\n",
       "          const url = new URL(\"/\", window.location);\n",
       "          url.port = 6006;\n",
       "          frame.src = url;\n",
       "        })();\n",
       "      </script>\n",
       "  "
      ],
      "text/plain": [
       "<IPython.core.display.HTML object>"
      ]
     },
     "metadata": {},
     "output_type": "display_data"
    }
   ],
   "source": [
    "# add tensorboard to notebook\n",
    "%load_ext tensorboard\n",
    "\n",
    "os.makedirs(logs_base_dir, exist_ok=True)\n",
    "%tensorboard --logdir {logs_base_dir}"
   ]
  },
  {
   "cell_type": "code",
   "execution_count": null,
   "metadata": {},
   "outputs": [
    {
     "name": "stdout",
     "output_type": "stream",
     "text": [
      "Creating Generator 'Train Generator':\n",
      "\tbatch size  :  128\n",
      "\tlength      :  16452\n",
      "\tnum batches :  129\n",
      "\ttarget shape:  (128, 128)\n",
      "\tcolor       :  True\n",
      "Creating Generator 'Val Generator':\n",
      "\tbatch size  :  128\n",
      "\tlength      :  4113\n",
      "\tnum batches :  33\n",
      "\ttarget shape:  (128, 128)\n",
      "\tcolor       :  True\n",
      "Epoch 1/2\n"
     ]
    },
    {
     "name": "stderr",
     "output_type": "stream",
     "text": [
      "INFO:plaidml:Analyzing Ops: 197 of 819 operations complete\n"
     ]
    }
   ],
   "source": [
    "# Train Model\n",
    "batch_size=128\n",
    "epochs=2\n",
    "\n",
    "results = train_unet(  model,\n",
    "             fash_train,\n",
    "             fash_val,\n",
    "             epochs=epochs,\n",
    "             target_shape=im_shape, \n",
    "             batch_size=batch_size,\n",
    "             logs_base_dir=logs_base_dir,\n",
    "             color=True)"
   ]
  },
  {
   "cell_type": "markdown",
   "metadata": {},
   "source": [
    "Current:\n",
    "> Current: switched to softmax/categorical cross entropy\n",
    "\n",
    "> Turning off multiple category merging\n",
    "\n",
    "Other:\n",
    "> change to sigmoid from softmax // binary_crossentropy from categorical_crossentropy\n",
    "> he kernel_initialization ='he_initialization'\n",
    "> updated sequenc generator for resizing issues\n",
    "\n",
    "> change batch size to 64\n",
    "\n",
    "> consider using Adam again (didn't help)\n",
    "\n",
    "> consider increasing im size to 256\n",
    "\n"
   ]
  },
  {
   "cell_type": "code",
   "execution_count": 43,
   "metadata": {},
   "outputs": [],
   "source": [
    "model_save_dir = os.path.join(data_dir, 'logs')\n",
    "model.save(os.path.join(model_save_dir,'model-unet-fashion-2epochs-categorical.h5'))"
   ]
  },
  {
   "cell_type": "markdown",
   "metadata": {},
   "source": [
    "### Visualize Masks\n",
    "Conver one-hot encoded masks into displayable masks"
   ]
  },
  {
   "cell_type": "code",
   "execution_count": 1,
   "metadata": {},
   "outputs": [
    {
     "ename": "NameError",
     "evalue": "name 'ImgMask_sequencer' is not defined",
     "output_type": "error",
     "traceback": [
      "\u001b[0;31m---------------------------------------------------------------------------\u001b[0m",
      "\u001b[0;31mNameError\u001b[0m                                 Traceback (most recent call last)",
      "\u001b[0;32m<ipython-input-1-79ea2ae427ce>\u001b[0m in \u001b[0;36m<module>\u001b[0;34m\u001b[0m\n\u001b[1;32m      1\u001b[0m \u001b[0mbatch_size\u001b[0m \u001b[0;34m=\u001b[0m \u001b[0;36m1\u001b[0m\u001b[0;34m\u001b[0m\u001b[0;34m\u001b[0m\u001b[0m\n\u001b[0;32m----> 2\u001b[0;31m train_gen  = ImgMask_sequencer(  fash_val, \n\u001b[0m\u001b[1;32m      3\u001b[0m                                  \u001b[0mbatch_size\u001b[0m\u001b[0;34m=\u001b[0m\u001b[0mbatch_size\u001b[0m\u001b[0;34m,\u001b[0m\u001b[0;34m\u001b[0m\u001b[0;34m\u001b[0m\u001b[0m\n\u001b[1;32m      4\u001b[0m                                  \u001b[0mname\u001b[0m\u001b[0;34m=\u001b[0m\u001b[0;34m\"Train Generator\"\u001b[0m\u001b[0;34m,\u001b[0m\u001b[0;34m\u001b[0m\u001b[0;34m\u001b[0m\u001b[0m\n\u001b[1;32m      5\u001b[0m                                  \u001b[0mtarget_shape\u001b[0m\u001b[0;34m=\u001b[0m\u001b[0mim_shape\u001b[0m\u001b[0;34m[\u001b[0m\u001b[0;36m0\u001b[0m\u001b[0;34m:\u001b[0m\u001b[0;36m2\u001b[0m\u001b[0;34m]\u001b[0m\u001b[0;34m,\u001b[0m\u001b[0;34m\u001b[0m\u001b[0;34m\u001b[0m\u001b[0m\n",
      "\u001b[0;31mNameError\u001b[0m: name 'ImgMask_sequencer' is not defined"
     ]
    }
   ],
   "source": [
    "batch_size = 1\n",
    "train_gen  = ImgMask_sequencer(  fash_val, \n",
    "                                 batch_size=batch_size,\n",
    "                                 name=\"Train Generator\",\n",
    "                                 target_shape=im_shape[0:2],\n",
    "                                 color=True)\n",
    "\n",
    "fix, ax = plt.subplots(ncols=3, figsize=(20,20), sharex=True, sharey=True)\n",
    "\n",
    "test_image_batch, test_mask_batch = train_gen.__getitem__(2)\n",
    "test_image = test_image_batch[0]\n",
    "test_mask  = test_mask_batch[0]\n",
    "\n",
    "mask, class_ids = get_unstacked_mask(test_mask)\n",
    "bbox = utils.extract_bboxes(mask)\n",
    "\n",
    "ax[0].imshow(test_image)\n",
    "ax[0].axis('off')\n",
    "ax[0].set_title(\"Original Image\")\n",
    "\n",
    "visualize.display_instances(test_image*255, \n",
    "                            bbox, \n",
    "                            mask, \n",
    "                            class_ids, \n",
    "                            fash_val.class_names, \n",
    "                            figsize=(10,10),\n",
    "                            show_bbox=False, show_mask=True,\n",
    "                            ax=ax[1], title=\"Ground Truth Mask\")\n",
    "\n",
    "pred_mask_batch = model.predict(test_image_batch)\n",
    "p_mask, p_class_ids = get_unstacked_mask(pred_mask_batch[0], threshold= 0.9)\n",
    "p_bbox = utils.extract_bboxes(p_mask)\n",
    "visualize.display_instances(test_image*255, \n",
    "                            p_bbox, \n",
    "                            p_mask*255, \n",
    "                            p_class_ids, \n",
    "                            fash_val.class_names, \n",
    "                            figsize=(10,10),\n",
    "                            show_bbox=True, show_mask=True,\n",
    "                            ax=ax[2], title=\"Truth with Class Boxes\")\n",
    "\n"
   ]
  },
  {
   "cell_type": "code",
   "execution_count": null,
   "metadata": {},
   "outputs": [],
   "source": []
  }
 ],
 "metadata": {
  "kernelspec": {
   "display_name": "Python 3",
   "language": "python",
   "name": "python3"
  },
  "language_info": {
   "codemirror_mode": {
    "name": "ipython",
    "version": 3
   },
   "file_extension": ".py",
   "mimetype": "text/x-python",
   "name": "python",
   "nbconvert_exporter": "python",
   "pygments_lexer": "ipython3",
   "version": "3.6.9"
  }
 },
 "nbformat": 4,
 "nbformat_minor": 2
}
