{
 "cells": [
  {
   "cell_type": "markdown",
   "metadata": {},
   "source": [
    "# UNET - Train on Fashion Dataset\n",
    "\n",
    "\n",
    "This notebook shows how to train UNET on the Fashion dataset.\n",
    "\n",
    "### The Dataset Object\n",
    "This notebook will implement a Dataset object from the mcrnn implementation.  The dataset object holds a listing of all relevant data needed for training images and respective masks.  The object holds file references to the images and encoded masks for semantic segmentation.\n",
    "\n",
    "The same dataset object used for training the MRCNN implementation is used in this workbook.  This helps to compare numerous implementation results by ensureing the same training data is used.\n",
    "\n",
    "### UNET\n",
    "UNET is a model that will produce a semantic segmentation based on an input image.  UNET acts as an encoder by using CNN's and Max Pooling to create an encoder and uses Upscaling and CNN's to decode.  UNET will output a sementaic segmentation of the same dimension as the input.  Each channel of the output is a binary mask for a segmentation class.  UNET's key feature is that the final output from each layer is concatenated with the corresponding layer on the decoding side.  The key feature allows the decoder to better represent more complex shape in the segmentation.  \n",
    "\n",
    "### Limitations\n",
    "#### Semantic Segmentation Only\n",
    "UNET in its basic form will only output a semantic segmenation.  No boxing or instance identification is included.  This will increase the speed of training, but limits it use.\n",
    "\n",
    "#### Fixed Dimensions\n",
    "A UNET model is compiled with a fixed input dimension which drives a fixed output dimension.  Any training images or inferrence images will need to have the specificed input dimension.  MRCNN is more flexible and allows an input image of any size.\n"
   ]
  },
  {
   "cell_type": "markdown",
   "metadata": {},
   "source": [
    "<html><head>\n",
    "\n",
    "\n",
    "<!-- Load require.js. Delete this if your page already loads require.js -->\n",
    "<script src=\"https://cdnjs.cloudflare.com/ajax/libs/require.js/2.3.4/require.min.js\" integrity=\"sha256-Ae2Vz/4ePdIu6ZyI/5ZGsYnb+m0JlOmKPjt6XZ9JJkA=\" crossorigin=\"anonymous\"></script>\n",
    "<script src=\"https://unpkg.com/@jupyter-widgets/html-manager@*/dist/embed-amd.js\" crossorigin=\"anonymous\"></script>\n",
    "<script type=\"application/vnd.jupyter.widget-state+json\">\n",
    "{\n",
    "    \"version_major\": 2,\n",
    "    \"version_minor\": 0,\n",
    "    \"state\": {}\n",
    "}\n",
    "</script>\n",
    "</head>\n",
    "<body>\n",
    "\n",
    "\n",
    "</body>\n",
    "</html>\n",
    "\n"
   ]
  },
  {
   "cell_type": "markdown",
   "metadata": {},
   "source": [
    "## Unet Architecture\n",
    "![title](Unet_architecture.png)"
   ]
  },
  {
   "cell_type": "markdown",
   "metadata": {},
   "source": [
    "### Setup local variables"
   ]
  },
  {
   "cell_type": "code",
   "execution_count": 1,
   "metadata": {},
   "outputs": [
    {
     "data": {
      "text/plain": [
       "(True, True, True, True)"
      ]
     },
     "execution_count": 1,
     "metadata": {},
     "output_type": "execute_result"
    }
   ],
   "source": [
    "import os, sys\n",
    "\n",
    "project_root = \"/Users/markmcdonald/Library/Mobile Documents/com~apple~CloudDocs/Harvard/CSCI_E25/Project/computer-vision-project\"\n",
    "data_dir     = '/Users/markmcdonald/Desktop/FashionDataSet'\n",
    "train_dir    = os.path.join(data_dir, 'train')\n",
    "images_file  = os.path.join(data_dir, 'train.csv' )\n",
    "cat_file     = os.path.join(data_dir, 'label_descriptions.json' )\n",
    "sys.path.append(project_root)\n",
    "os.path.isdir(data_dir), os.path.isdir(train_dir), os.path.isfile(images_file), os.path.isfile(images_file)"
   ]
  },
  {
   "cell_type": "markdown",
   "metadata": {},
   "source": [
    "## Set Backend For GPU Support\n",
    "This can be commented out if an Nvidia GPU is being used or if processing is to be done using local CPUs"
   ]
  },
  {
   "cell_type": "code",
   "execution_count": 2,
   "metadata": {},
   "outputs": [],
   "source": [
    "import os\n",
    "# fix libiomp5.dylib error for mac\n",
    "# os.environ['KMP_DUPLICATE_LIB_OK'] = 'True'\n",
    "\n",
    "# OPTIONAL SETTING\n",
    "# Here we override the keras backend env variable to use plaidml\n",
    "# plaidml can make use of AMD GPUs \n",
    "# This assignment needs to be added before loading keras libraries\n",
    "\n",
    "# os.environ[\"KERAS_BACKEND\"] = \"plaidml.keras.backend\"\n",
    "# os.environ[\"KERAS_BACKEND\"] = \"tensorflow.keras.backend\"\n",
    "\n",
    "# to install plaidML, activate appropriate environment and then:\n",
    "#   pip install -U plaidml-keras\n",
    "#   plaidml-setup\n"
   ]
  },
  {
   "cell_type": "markdown",
   "metadata": {},
   "source": [
    "### Load Modules"
   ]
  },
  {
   "cell_type": "code",
   "execution_count": 3,
   "metadata": {},
   "outputs": [],
   "source": [
    "import warnings\n",
    "warnings.filterwarnings('ignore')\n",
    "\n",
    "import datetime, os\n",
    "import sys\n",
    "import random\n",
    "import math\n",
    "import re\n",
    "import time\n",
    "import numpy as np\n",
    "import cv2\n",
    "import matplotlib\n",
    "import matplotlib.pyplot as plt\n",
    "import matplotlib.patches as patches\n",
    "import matplotlib.lines as lines\n",
    "from matplotlib.patches import Polygon\n",
    "import seaborn as sns\n",
    "\n",
    "import tensorflow as tf\n",
    "tf.logging.set_verbosity(tf.logging.ERROR)\n",
    "\n",
    "from tqdm import tqdm_notebook as tqdm\n",
    "import json\n",
    "import pandas as pd\n",
    "import skimage\n",
    "import random\n",
    "from sklearn.model_selection import train_test_split\n",
    "import pickle\n",
    "from skimage.transform import resize\n",
    "\n",
    "import FashionUtils.FashionDataset as FashionDataset #import FashionDataset, create_datasets, load_dataset, save_dataset\n",
    "\n",
    "# Root directory of the project\n",
    "ROOT_DIR = os.path.abspath(\"../../\")\n",
    "\n",
    "# Import Mask RCNN\n",
    "sys.path.append(ROOT_DIR)  # To find local version of the library\n",
    "\n",
    "# from mrcnn.config import Config\n",
    "from mrcnn import utils\n",
    "# import mrcnn.model as modellib\n",
    "from mrcnn import visualize\n",
    "# from mrcnn.model import log\n",
    "from mrcnn.visualize import display_images\n",
    "\n",
    "%matplotlib inline "
   ]
  },
  {
   "cell_type": "code",
   "execution_count": null,
   "metadata": {},
   "outputs": [],
   "source": []
  },
  {
   "cell_type": "code",
   "execution_count": 10,
   "metadata": {},
   "outputs": [
    {
     "name": "stdout",
     "output_type": "stream",
     "text": [
      "Loading Tensorflow libraries for Keras.\n"
     ]
    }
   ],
   "source": [
    "# Keras imports\n",
    "\n",
    "import keras.backend as K\n",
    "\n",
    "if os.environ.get(\"KERAS_BACKEND\") == \"plaidml.keras.backend\":\n",
    "    print(\"Loading PlaidML libraries for Keras.\")\n",
    "    import keras\n",
    "    \n",
    "    from keras.models import Model, load_model, model_from_json\n",
    "    from keras.layers import Input, BatchNormalization, Activation, Dense, Dropout\n",
    "    from keras.layers.core import Lambda, RepeatVector, Reshape\n",
    "    from keras.layers.convolutional import Conv2D, Conv2DTranspose\n",
    "    from keras.layers.pooling import MaxPooling2D, GlobalMaxPool2D\n",
    "    from keras.layers.merge import concatenate, add\n",
    "    from keras.callbacks import EarlyStopping, ModelCheckpoint, ReduceLROnPlateau, TensorBoard\n",
    "    from keras.optimizers import Adam, SGD\n",
    "    from keras.preprocessing.image import ImageDataGenerator, array_to_img, img_to_array, load_img\n",
    "    from keras.utils import to_categorical, Sequence\n",
    "    from keras.layers import UpSampling2D\n",
    "    from keras.preprocessing import image\n",
    "    from keras.applications.resnet_v2 import ResNet152V2\n",
    "    \n",
    "\n",
    "else:\n",
    "    print(\"Loading Tensorflow libraries for Keras.\")\n",
    "    import tensorflow as tf\n",
    "\n",
    "    from tensorflow.python.keras.models import Model, load_model, model_from_json\n",
    "    from tensorflow.python.keras.layers import Input, BatchNormalization, Activation, Dense, Dropout\n",
    "    from tensorflow.python.keras.layers.core import Lambda, RepeatVector, Reshape\n",
    "    from tensorflow.python.keras.layers.convolutional import Conv2D, Conv2DTranspose\n",
    "    from tensorflow.python.keras.layers.pooling import MaxPooling2D, GlobalMaxPool2D\n",
    "    from tensorflow.python.keras.layers.merge import concatenate, add\n",
    "    from tensorflow.python.keras.callbacks import EarlyStopping, ModelCheckpoint, ReduceLROnPlateau\n",
    "    from tensorflow.python.keras.optimizers import Adam, SGD\n",
    "    from tensorflow.python.keras.preprocessing.image import ImageDataGenerator, array_to_img, img_to_array, load_img\n",
    "    from tensorflow.python.keras.utils import to_categorical, Sequence\n",
    "    from tensorflow.python.keras.layers import UpSampling2D\n",
    "    from tensorflow.python.keras.preprocessing import image\n",
    "#     from tensorflow.python.keras.applications.resnet_v2 import ResNet152V2\n",
    "    "
   ]
  },
  {
   "cell_type": "markdown",
   "metadata": {},
   "source": [
    "### Load FasionDataset Objects\n",
    "If you have saved the datasets, you can load them, it resplit and build them again."
   ]
  },
  {
   "cell_type": "code",
   "execution_count": 5,
   "metadata": {},
   "outputs": [],
   "source": [
    "# NOTE: There are 300k line images in the full training list\n",
    "# fash_train, fash_val = create_datasets( images_file=images_file, \n",
    "#                                                   cat_file=cat_file,\n",
    "#                                                   images_dir=train_dir,\n",
    "#                                                   split=0.9, \n",
    "#                                                   limit=1000)\n",
    "\n",
    "# fash_train.save(os.path.join(data_dir, 'fashion_train_dataset_erase.pkl'))\n",
    "# fash_val.save(os.path.join(data_dir, 'fashion_val_dataset_erase.pkl'))"
   ]
  },
  {
   "cell_type": "code",
   "execution_count": 6,
   "metadata": {},
   "outputs": [
    {
     "name": "stdout",
     "output_type": "stream",
     "text": [
      "/Users/markmcdonald/Desktop/FashionDataSet/fashion_train_dataset_150k.pkl\n",
      "/Users/markmcdonald/Desktop/FashionDataSet/fashion_val_dataset_150k.pkl\n"
     ]
    }
   ],
   "source": [
    "# fash_train = pickle_load(data_dir, 'fashion_train_dataset_10k.pkl')\n",
    "# fash_val = pickle_load(data_dir, 'fashion_val_dataset_10k.pkl')\n",
    "\n",
    "fash_train = FashionDataset.load_dataset(os.path.join(data_dir, 'fashion_train_dataset_150k.pkl'))\n",
    "fash_val   = FashionDataset.load_dataset(os.path.join(data_dir, 'fashion_val_dataset_150k.pkl'))\n"
   ]
  },
  {
   "cell_type": "code",
   "execution_count": 27,
   "metadata": {},
   "outputs": [],
   "source": [
    "im_height = 128\n",
    "im_width = 128\n",
    "im_channels = 3\n",
    "im_shape = (im_height, im_width, im_channels)\n",
    "n_classes = len(fash_train.class_ids)"
   ]
  },
  {
   "cell_type": "markdown",
   "metadata": {},
   "source": [
    "### Generators for Images and Masks"
   ]
  },
  {
   "cell_type": "code",
   "execution_count": 28,
   "metadata": {},
   "outputs": [],
   "source": [
    "class ImgMask_sequencer(Sequence):\n",
    "    \"\"\"\n",
    "    Create batch generator based on Dataset object.\n",
    "    Returns images and masks resize to target_size provided.\n",
    "    \"\"\"\n",
    "\n",
    "    def __init__(self, dataset, \n",
    "                 batch_size:int=32, \n",
    "                 name:str=None, \n",
    "                 target_shape:tuple=(512,512,3),\n",
    "                 color:bool=True):\n",
    "\n",
    "        self.dataset      = dataset\n",
    "        self.batch_size   = batch_size\n",
    "        self.length       = len(self.dataset)\n",
    "        self.num_batches  = int(self.length / self.batch_size)+1\n",
    "        self.name         = name\n",
    "        self.target_shape = target_shape\n",
    "        self.classes      = self.dataset.source_class_ids['imaterialist']\n",
    "        self.num_classes  = len(self.classes)\n",
    "        self.color        = color\n",
    "\n",
    "        print(\"Creating Generator '{}':\".format(self.name))\n",
    "        print(\"\\tbatch size  : \", self.batch_size)\n",
    "        print(\"\\tlength      : \", self.length)\n",
    "        print(\"\\tnum batches : \", self.num_batches)\n",
    "        print(\"\\ttarget shape: \", self.target_shape)\n",
    "        print(\"\\tcolor       : \", self.color)\n",
    "        \n",
    "    def __len__(self):\n",
    "        return self.num_batches\n",
    "    \n",
    "    def __getitem__(self, idx):\n",
    "\n",
    "        img_ids    = self.dataset.image_ids\n",
    "       \n",
    "        # get batch_num number of entries from dataset\n",
    "        images, masks = [], []\n",
    "        start = self.batch_size * idx\n",
    "        end   = self.batch_size * (idx+1)\n",
    "        \n",
    "        if end>self.length-1:\n",
    "            end = self.length-1\n",
    "            print(\"Curtailed: length:{}/end{}\".format(self.length, end))\n",
    "\n",
    "        for i in img_ids[start:end]:\n",
    "            #load image and mask\n",
    "            img  = self.dataset.load_image(i)\n",
    "            mask, mask_classes = self.dataset.load_mask(i)\n",
    "            \n",
    "            # convert color\n",
    "            if not self.color:\n",
    "                img = np.mean(img, axis=2)\n",
    "                img = np.stack([img for i in range(3)], axis=2) # make 3-channel bw image\n",
    "            \n",
    "            if self.target_shape != None:\n",
    "                img, window, scale, padding, crop  = utils.resize_image(img, max_dim=self.target_shape[0], mode='square')\n",
    "                mask = utils.resize_mask(mask, scale, padding, crop) # resize to match image - input shape\n",
    "            else:\n",
    "                self.target_shape = img.shape\n",
    "\n",
    "            # create stacked mask\n",
    "            stacked_mask = np.zeros(shape=(self.target_shape[0], self.target_shape[1], self.num_classes))\n",
    "            try:\n",
    "                stacked_mask[:,:,mask_classes] = mask\n",
    "            except Exception as e:\n",
    "                print(\"Error on image number: {}\".format(i))\n",
    "                print(e)\n",
    "                continue\n",
    "            \n",
    "            # if there are two instances of same class - merge layers   \n",
    "            cl_unique, cl_counts = np.unique(mask_classes, return_counts=True)\n",
    "            dup_classes = cl_unique[cl_counts>1]\n",
    "            if len(dup_classes) > 0:\n",
    "                for d in dup_classes:\n",
    "                    locations = np.where(mask_classes==d)[0]\n",
    "                    stacked_mask[:,:,d] = (np.sum(mask[:,:,locations],axis=2))>0\n",
    "\n",
    "            images.append(img/255)\n",
    "            masks.append(stacked_mask)\n",
    "            \n",
    "        try:    \n",
    "            img_stack  = np.stack(images, axis=0) \n",
    "            mask_stack = np.stack(masks, axis=0)\n",
    "        except Exception as e:\n",
    "            print(\"Image number: {}\".format(i))\n",
    "            print(\"Start: {}  End: {}\".format(start, end))\n",
    "            print(e)\n",
    "\n",
    "        return img_stack, mask_stack\n",
    "    "
   ]
  },
  {
   "cell_type": "markdown",
   "metadata": {},
   "source": [
    "## Predictions"
   ]
  },
  {
   "cell_type": "code",
   "execution_count": 29,
   "metadata": {},
   "outputs": [],
   "source": [
    "# U-Net architecture\n",
    "def UNet(input_img, \n",
    "         bn_enc:bool=False, \n",
    "         bn_dec:bool=True,\n",
    "         contatenate:bool=True,\n",
    "         init:str='glorot_uniform',\n",
    "         activation='relu'): #keras.layers.ELU(alpha=1.0) keras.layers.LeakyReLU(alpha=0.3)\n",
    "\n",
    "    def enc_layer(input_layer, depth, a=activation, i=init, p='same', bn=bn_enc):\n",
    "        \n",
    "        layer = Conv2D(depth, (3,3), padding=p, kernel_initializer = i)(input_layer)\n",
    "        if bn:\n",
    "            layer = BatchNormalization()(layer)\n",
    "        layer = Activation(a)(layer)\n",
    "        \n",
    "        layer = Conv2D(depth, (3,3), padding=p, kernel_initializer = i)(input_layer)\n",
    "        if bn:\n",
    "            layer = BatchNormalization()(layer)\n",
    "        layer = Activation(a)(layer)\n",
    "\n",
    "        return MaxPooling2D(pool_size=(2,2))(layer), layer\n",
    "    \n",
    "    def dec_layer(input_layer, conc_layer, depth, a=activation, i=init, p='same', bn=bn_dec):\n",
    "        \n",
    "        layer = UpSampling2D((2,2))(input_layer)\n",
    "        if concatenate:\n",
    "            layer = concatenate([conc_layer,layer], axis=3)\n",
    "        layer = Conv2D(depth, (3,3),padding=p,kernel_initializer = i)(layer)\n",
    "        if bn:\n",
    "            layer = BatchNormalization()(layer)\n",
    "        layer = Activation(a)(layer)\n",
    "        \n",
    "        layer = Conv2D(depth, (3,3),padding=p,kernel_initializer = i)(layer)\n",
    "        if bn:\n",
    "            layer = BatchNormalization()(layer)\n",
    "        layer = Activation(a)(layer)\n",
    "\n",
    "        return layer\n",
    "            \n",
    "\n",
    "    # Encoder\n",
    "    enc1_pool, enc1 = enc_layer(input_img,  64)\n",
    "    enc2_pool, enc2 = enc_layer(enc1_pool, 128)\n",
    "    enc3_pool, enc3 = enc_layer(enc2_pool, 256)\n",
    "    enc4_pool, enc4 = enc_layer(enc3_pool, 512)\n",
    "    \n",
    "    encoder = Conv2D(1024, (3,3), padding='same', kernel_initializer = init)(enc4_pool)\n",
    "    encoder = BatchNormalization()(encoder)\n",
    "    encoder = Activation(activation)(encoder)\n",
    "    encoder = Conv2D(512, (3,3), activation=activation, padding='same', kernel_initializer = init)(encoder)\n",
    "    encoder = BatchNormalization()(encoder)\n",
    "    encoder = Activation(activation)(encoder)\n",
    "\n",
    "    # Decoder\n",
    "    dec4 = dec_layer(encoder, enc4, 512)\n",
    "    dec3 = dec_layer(dec4,    enc3, 256) #[(None, 32, 32, 512), (None, 16, 16, 512)]\n",
    "    dec2 = dec_layer(dec3,    enc2, 128)\n",
    "    dec1 = dec_layer(dec2,    enc1, 64)\n",
    "\n",
    "    outputs = Conv2D(n_classes, (1, 1), activation='softmax')(dec1) # sigmoid\n",
    "    print(\"outputs shape: \", outputs.shape)\n",
    "    \n",
    "    model = Model(inputs=[input_img], outputs=[outputs])\n",
    "    return model"
   ]
  },
  {
   "cell_type": "code",
   "execution_count": 30,
   "metadata": {},
   "outputs": [
    {
     "name": "stdout",
     "output_type": "stream",
     "text": [
      "outputs shape:  (?, 128, 128, 47)\n"
     ]
    }
   ],
   "source": [
    "model = UNet(Input(im_shape,name='img'), \n",
    "               bn_enc=True, # should be off\n",
    "               bn_dec=True,  # should be on\n",
    "               init='glorot_uniform')"
   ]
  },
  {
   "cell_type": "code",
   "execution_count": 39,
   "metadata": {},
   "outputs": [],
   "source": [
    "model.load_weights('/Users/markmcdonald/Desktop/FashionDataSet/logs/20191210-171342/model-unet-fashion-1epochs-batchsize4.h5')\n",
    "model.compile(optimizer=Adam(), \n",
    "                  loss=\"categorical_crossentropy\", # binary_crossentropy\n",
    "                  metrics=[\"acc\"])"
   ]
  },
  {
   "cell_type": "code",
   "execution_count": 40,
   "metadata": {},
   "outputs": [],
   "source": [
    "def get_unstacked_mask(stacked_mask, threshold:float=0.5):\n",
    "    \"\"\"\n",
    "    Return a mask with as many channels as there are classes.\n",
    "    Also returns the class id's for the channels returned.\n",
    "    \"\"\"\n",
    "    \n",
    "    def get_classids_from_stacked_mask(stacked_mask):\n",
    "        # get class id's from stacked mask\n",
    "        class_ids = []\n",
    "        for c in range(stacked_mask.shape[2]):\n",
    "            if np.max(stacked_mask[:,:,c])>threshold:\n",
    "                class_ids.append(c)\n",
    "\n",
    "        return np.array(class_ids).astype(int)\n",
    "    \n",
    "    class_ids = get_classids_from_stacked_mask(stacked_mask)\n",
    "    unstacked_mask = np.ones(shape=(stacked_mask.shape[0], stacked_mask.shape[1], len(class_ids)))\n",
    "    \n",
    "    unstacked_mask = stacked_mask[:,:,class_ids]\n",
    "    \n",
    "    return unstacked_mask, class_ids\n",
    "    "
   ]
  },
  {
   "cell_type": "code",
   "execution_count": 60,
   "metadata": {},
   "outputs": [
    {
     "name": "stdout",
     "output_type": "stream",
     "text": [
      "Creating Generator 'Train Generator':\n",
      "\tbatch size  :  1\n",
      "\tlength      :  4113\n",
      "\tnum batches :  4114\n",
      "\ttarget shape:  (128, 128)\n",
      "\tcolor       :  True\n"
     ]
    },
    {
     "data": {
      "image/png": "[encoded data removed]",
      "text/plain": [
       "<Figure size 1440x1440 with 3 Axes>"
      ]
     },
     "metadata": {
      "needs_background": "light"
     },
     "output_type": "display_data"
    }
   ],
   "source": [
    "batch_size = 1\n",
    "val_gen  = ImgMask_sequencer(  fash_val, \n",
    "                                 batch_size=batch_size,\n",
    "                                 name=\"Train Generator\",\n",
    "                                 target_shape=im_shape[0:2],\n",
    "                                 color=True)\n",
    "\n",
    "fix, ax = plt.subplots(ncols=3, figsize=(20,20), sharex=True, sharey=True)\n",
    "\n",
    "rndidx = random.randint(0, len(fash_val))\n",
    "test_image_batch, test_mask_batch = val_gen.__getitem__(rndidx)\n",
    "test_image = test_image_batch[0]\n",
    "test_mask  = test_mask_batch[0]\n",
    "\n",
    "mask, class_ids = get_unstacked_mask(test_mask)\n",
    "bbox = utils.extract_bboxes(mask)\n",
    "\n",
    "ax[0].imshow(test_image)\n",
    "ax[0].axis('off')\n",
    "ax[0].set_title(\"Original Image\")\n",
    "\n",
    "visualize.display_instances(test_image*255, \n",
    "                            bbox, \n",
    "                            mask, \n",
    "                            class_ids, \n",
    "                            fash_val.class_names, \n",
    "                            figsize=(10,10),\n",
    "                            show_bbox=False, show_mask=True,\n",
    "                            ax=ax[1], title=\"Ground Truth Mask \\n{}\".format(class_ids))\n",
    "\n",
    "pred_mask_batch = model.predict(test_image_batch)\n",
    "p_mask, p_class_ids = get_unstacked_mask(pred_mask_batch[0], threshold=0.5)\n",
    "p_bbox = utils.extract_bboxes(p_mask)\n",
    "visualize.display_instances(test_image*255, \n",
    "                            p_bbox, \n",
    "                            p_mask>.5, \n",
    "                            p_class_ids, \n",
    "                            fash_val.class_names, \n",
    "                            figsize=(10,10),\n",
    "                            show_bbox=True, show_mask=True,\n",
    "                            ax=ax[2], title=\"Prediction \\n{}\".format(p_class_ids))\n",
    "\n",
    "\n"
   ]
  },
  {
   "cell_type": "code",
   "execution_count": null,
   "metadata": {},
   "outputs": [],
   "source": []
  },
  {
   "cell_type": "code",
   "execution_count": 157,
   "metadata": {},
   "outputs": [
    {
     "data": {
      "text/html": [
       "\n",
       "      <iframe id=\"tensorboard-frame-5e71b0994e94b539\" width=\"100%\" height=\"800\" frameborder=\"0\">\n",
       "      </iframe>\n",
       "      <script>\n",
       "        (function() {\n",
       "          const frame = document.getElementById(\"tensorboard-frame-5e71b0994e94b539\");\n",
       "          const url = new URL(\"/\", window.location);\n",
       "          url.port = 6009;\n",
       "          frame.src = url;\n",
       "        })();\n",
       "      </script>\n",
       "  "
      ],
      "text/plain": [
       "<IPython.core.display.HTML object>"
      ]
     },
     "metadata": {},
     "output_type": "display_data"
    }
   ],
   "source": [
    "# add tensorboard to notebook\n",
    "%load_ext tensorboard\n",
    "\n",
    "logs_base_dir = os.path.join(data_dir, 'logs')\n",
    "os.makedirs(logs_base_dir, exist_ok=True)\n",
    "%tensorboard --logdir {logs_base_dir}"
   ]
  },
  {
   "cell_type": "code",
   "execution_count": null,
   "metadata": {},
   "outputs": [],
   "source": []
  },
  {
   "cell_type": "code",
   "execution_count": null,
   "metadata": {},
   "outputs": [],
   "source": []
  }
 ],
 "metadata": {
  "kernelspec": {
   "display_name": "Python 3",
   "language": "python",
   "name": "python3"
  },
  "language_info": {
   "codemirror_mode": {
    "name": "ipython",
    "version": 3
   },
   "file_extension": ".py",
   "mimetype": "text/x-python",
   "name": "python",
   "nbconvert_exporter": "python",
   "pygments_lexer": "ipython3",
   "version": "3.6.9"
  }
 },
 "nbformat": 4,
 "nbformat_minor": 2
}
